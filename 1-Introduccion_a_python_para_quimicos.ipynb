{
 "cells": [
  {
   "cell_type": "markdown",
   "metadata": {},
   "source": [
    "# Introduccion a Python para quimicos"
   ]
  },
  {
   "cell_type": "markdown",
   "metadata": {},
   "source": [
    "Este primer trabajo práctico está destinado a introducir a los estudiantes de química en el lenguaje informático Python empleando cuadernos interactivos de Jupyter. \n",
    "Para hacerlo mas ameno, los conceptos se introducen en el contexto de la resolución de problemas comunes de la química general y analítica."
   ]
  },
  {
   "cell_type": "markdown",
   "metadata": {},
   "source": [
    "### 1. Construcción de una curva de calibración"
   ]
  },
  {
   "cell_type": "markdown",
   "metadata": {},
   "source": [
    "En este primera parte se presentará el uso de python para graficar listas de puntos y luego ajustar esos puntos a funciones. El enfoque aquí estará en la creación de curvas de calibración usando soluciones estándar.\n",
    "\n",
    "Antes de hacer algo en Python, es una buena idea importar primero las dependencias que necesitaremos. Para esta primera parte, usaremos numpy para calcular ajustes no lineales, matplotlib para crear los gráficos y el paquete stats de scipy para realizar el ajuste lineal"
   ]
  },
  {
   "cell_type": "code",
   "execution_count": 44,
   "metadata": {},
   "outputs": [],
   "source": [
    "import numpy as np\n",
    "import matplotlib.pyplot as plt\n",
    "from scipy import stats"
   ]
  },
  {
   "cell_type": "markdown",
   "metadata": {},
   "source": [
    "Considere la siguiente relación entre una serie de soluciones estándar y la señal medida en un instrumento:\n",
    "\n",
    "| Concentración de ión plata (ppb) | Señal (arb.) |\n",
    "|:--------:|:--------:|\n",
    "| 0.00 | 0.000 |\n",
    "| 2.00 | 0.013 |\n",
    "| 10.0 | 0.076 |\n",
    "| 20.0 | 0.162 |\n",
    "| 30.0 | 0.245 |\n",
    "| 50.0 | 0.405 |\n",
    "| 75.0 | 0.598 |\n",
    "| 100.0 | 0.748 |\n",
    "| 125.0 | 0.817 |\n",
    "| 150.0 | 0.872 |\n",
    "\n",
    "Para crear una curva de calibración, primero creamos dos listas. La primera, que serán nuestros valores de x, con las concentracions de iones de plata, y la segunda, que serán nuestros valores de y, para las señal. Luego podemos graficar estos puntos."
   ]
  },
  {
   "cell_type": "markdown",
   "metadata": {},
   "source": [
    "<div class=\"alert alert-block alert-info\">\n",
    "NOTA: Una lista en Python es una estructura de datos formada por una secuencia ordenada de elementos. Para crear una lista en Python, simplemente hay que encerrar la secuencia de elementos separados por comas entre paréntesis cuadrados [ ]<br>\n",
    "\n",
    "\n",
    "<code>\n",
    ">>> lista = [1, 2, 3, 4]\n",
    "</code>\n",
    "\n",
    "</div>"
   ]
  },
  {
   "cell_type": "code",
   "execution_count": 45,
   "metadata": {},
   "outputs": [
    {
     "data": {
      "image/png": "[encoded data removed]",
      "text/plain": [
       "<Figure size 432x288 with 1 Axes>"
      ]
     },
     "metadata": {
      "needs_background": "light"
     },
     "output_type": "display_data"
    }
   ],
   "source": [
    "xrange = [0,2,10,20,30,50,75,100,125,150] \n",
    "yrange = [0,0.013,0.076,0.162,0.245,0.405,0.598,0.748,0.817,0.872]\n",
    "plt.plot(xrange,yrange,'ro')\n",
    "plt.title(\"Figura 1 - Señal en función de la concentración de ión\")\n",
    "plt.xlabel('Concentración de ión plata (ppb)') \n",
    "plt.ylabel('Señal medida')\n",
    "plt.show()"
   ]
  },
  {
   "cell_type": "markdown",
   "metadata": {},
   "source": [
    "A continuación, usaremos la función linregress() que hemos importado de la parte de estadísticas de la biblioteca scipy, para encontrar un ajuste lineal para los puntos. \n",
    "Debido a que hay cierta curvatura en el extremo superior de la curva de calibración, usaremos una variable, a la que llamaremos listend, para definir el último punto que se incluirá en el ajuste lineal."
   ]
  },
  {
   "cell_type": "code",
   "execution_count": 46,
   "metadata": {},
   "outputs": [
    {
     "name": "stdout",
     "output_type": "stream",
     "text": [
      "La ecuación lineal para el ajuste es y = 6.9437E-03 x + 2.2576E-02, con un valor de R2 de 0.98481.\n"
     ]
    },
    {
     "data": {
      "image/png": "[encoded data removed]",
      "text/plain": [
       "<Figure size 432x288 with 1 Axes>"
      ]
     },
     "metadata": {
      "needs_background": "light"
     },
     "output_type": "display_data"
    }
   ],
   "source": [
    "listend = len(xrange)-1      # ignoramos el ultimo punto \n",
    "xsubrange = xrange[0:listend]\n",
    "ysubrange = yrange[0:listend]\n",
    "slope,intercept,r,tt,stderr=stats.linregress(xsubrange,ysubrange)\n",
    "print(\"La ecuación lineal para el ajuste es y = {0:1.4E} x + {1:1.4E}, con un valor de R2 de {2:1.5f}.\".format(slope, intercept, r**2))\n",
    "linfit = [i*slope + intercept for i in xsubrange]\n",
    "plt.plot(xrange,yrange,'ro')\n",
    "plt.plot(xsubrange,linfit,'b-')\n",
    "plt.title(\"Figura 2 - Ajuste lineal de los datos\")\n",
    "plt.xlabel('Concentración de ión plata (ppb)')\n",
    "plt.ylabel('Señal medida')\n",
    "plt.show()"
   ]
  },
  {
   "cell_type": "markdown",
   "metadata": {},
   "source": [
    "<div class=\"alert alert-block alert-info\">\n",
    "NOTA: Para acceder a un elemento de una lista se utilizan los índices. Un índice es un número entero que indica la posición de un elemento en una lista. El primer elemento de una lista siempre comienza en el índice 0. \n",
    "\n",
    "    \n",
    "\n",
    "<code>\n",
    ">>> lista = [1, 2, 3, 4]\n",
    ">>> lista[1]\n",
    "2\n",
    "</code>\n",
    "\n",
    "\n",
    "En Python está permitido usar índices negativos para acceder a los elementos de una lista. En este caso, el índice -1 hace referencia al último elemento de la lista, el -2 al penúltimo y así, sucesivamente: \n",
    "\n",
    "\n",
    "<code>\n",
    ">>> lista[-1]\n",
    "4\n",
    "</code>\n",
    "\n",
    "También es posible acceder a un subconjunto de elementos de una lista (\"slicing\") utilizando rangos en los índices, empleando el operador [:]. \n",
    "\n",
    "\n",
    "<code>\n",
    ">>> lista[1:4]              #elementos desde el índice 1 hasta el 4-1\n",
    "[2,3,4]\n",
    "</code>\n",
    "\n",
    "\n",
    "</div>\n",
    "\n",
    "\n"
   ]
  },
  {
   "cell_type": "markdown",
   "metadata": {},
   "source": [
    "<div class=\"alert alert-block alert-warning\">\n",
    "\n",
    "#### Actividad 1\n",
    "\n",
    "<ul>\n",
    "<li> ¿Cual será la concentración de ión plata para una señal de 0.5? </li>\n",
    "\n",
    "<li> Modifique la variable listend para ver cómo al cambiar los puntos sobre los que graficamos, cambia el valor R2 del ajuste lineal. </li>\n",
    "\n",
    "<li> Cambie el gráfico para que los puntos sean círculos azules y la línea sea una línea discontinua roja. Para ello puede revisar la documentación de la libreria matplotlib https://matplotlib.org/ </li>\n",
    " \n",
    "</ul> \n",
    "</div>\n"
   ]
  },
  {
   "cell_type": "code",
   "execution_count": null,
   "metadata": {},
   "outputs": [],
   "source": [
    "# ESCRIBA SUS RESPUESTAS EN ESTA CELDA "
   ]
  },
  {
   "cell_type": "markdown",
   "metadata": {},
   "source": [
    "### 2. Funciones en Python "
   ]
  },
  {
   "attachments": {
    "fig_ec_cuad.png": {
     "image/png": "[encoded data removed]"
    }
   },
   "cell_type": "markdown",
   "metadata": {},
   "source": [
    "Cuando estamos calculando concentraciones de equilibrio, generalmente podemos usar una tabla ICE (Inicial, Cambio, Equilibrio) para crear una ecuación polinomial y luego resolver la ecuación resultante. Por ejemplo si queremos calcular la solubilidad del cloruro de plata en agua: \n",
    "\n",
    "$$\\textrm{AgCl} \\rightarrow \\textrm{Ag}^{+}_{(aq)} + \\textrm{Cl}^{-}_{(aq)} \\qquad \\textrm{K}_{sp} = 1.82 \\textrm{x} 10^{-10}$$  \n",
    "\n",
    "![fig_ec_cuad.png](attachment:fig_ec_cuad.png)\n",
    "\n",
    "Considerando concentraciones iniciales de iones igual a cero, los coeficientes de la ecuación cuadrática quedan: a = 1, b = 0, and c = -1.82 x 10$^{-10}$ y la solubilidad del AgCl es x = 1.35 x 10$^{-5}$\n",
    "\n",
    "Ahora tomemos en cuenta el efecto del ion común y calculemos la solubilidad de AgCl en 0.1M KCl. En este caso, la tabla ICE nos da: a = 1, b = 0.1, y c = -1.82 x 10$^{-10}$ y la solubilidad del AgCl se reduce a x = 1.82 x 10$^{-9}$\n",
    "\n",
    "Ahora si queremos calcular la solubilidad del AgCl para concentraciones variables de KCl, lo mas práctico es escribir una función de python que pueda resolver la ecuación cuadrática (que llamaremos quad\\_solve), y luego usarla para encontrar [Ag$^{+}$]. \n",
    "\n",
    "Como recordatorio, una función (ya sea una función matemática o una función de computadora) es algo que toma algunas entradas, las manipula de alguna manera y luego devuelve los resultados manipulados. Para escribir una función en python, primero la definimos (usando \"def\"), luego todas las líneas que forman parte de la función deben estar  indentadas en 1 tab y finalmente usamos \"return\" para decirle a la función qué resultado debe devolver. \n",
    "\n"
   ]
  },
  {
   "cell_type": "code",
   "execution_count": 14,
   "metadata": {},
   "outputs": [],
   "source": [
    "def quad_solve(a, b, c):\n",
    "    discrim = np.sqrt(b**2 - 4 * a * c)\n",
    "    sol1 = (-b + discrim)/(2 * a)\n",
    "    sol2 = (-b - discrim)/(2 * a)\n",
    "    return [sol1,sol2]"
   ]
  },
  {
   "cell_type": "markdown",
   "metadata": {},
   "source": [
    "Tenga en cuenta que el solucionador de funciones cuadráticas que hemos escrito devuelve ambas raíces, por lo que debemos tener cuidado al elegir la raíz correcta.\n",
    "Para verificar que quad\\_solve funciona correctamente, preguntemosle sobre la solubilidad del AgCl para [KCl] = 0.0 y 0.1M y comparemos con los resultados anteriores. "
   ]
  },
  {
   "cell_type": "code",
   "execution_count": 16,
   "metadata": {},
   "outputs": [
    {
     "name": "stdout",
     "output_type": "stream",
     "text": [
      "La solubilidad del AgCl in en agua pura es 1.35E-05\n",
      "La solubilidad del AgCl in 0.1M de KCl es 1.82E-09\n"
     ]
    }
   ],
   "source": [
    "solutions = quad_solve(1,0,-1.82E-10) # en agua a = 1, b = 0, c = -1.82E-10 \n",
    "corrsol=\"{:.2E}\".format(solutions[0])\n",
    "print(\"La solubilidad del AgCl in en agua pura es\",corrsol)\n",
    "\n",
    "solutions = quad_solve(1,0.1,-1.82E-10) # en 0.1M de KCl a = 1, b = 0.1, c = -1.82E-10 \n",
    "corrsol=\"{:.2E}\".format(solutions[0])\n",
    "print(\"La solubilidad del AgCl in 0.1M de KCl es\",corrsol)\n"
   ]
  },
  {
   "cell_type": "markdown",
   "metadata": {},
   "source": [
    "<div class=\"alert alert-block alert-warning\">\n",
    "    \n",
    "#### Actividad 2\n",
    "\n",
    "<ul>\n",
    "<li> Grafique la solubilidad de AgCl en soluciones de KCl en función de la concentración de KCl, de 0 a 0,1 M. </li>\n",
    "\n",
    "<b>Ayuda:</b> La forma más fácil de graficar cosas en python es crear listas de puntos que representen valores de x e y, similar a lo que hicimos previamentes con la curva de calibración. \n",
    "Use la función linspace() del paquete numpy para crear un conjunto de 100 puntos distribuidos uniformemente entre 0.00001 y 0.1 que representen las diferentes concentraciones de KCl (que serán los puntos x), y luego use la función quad\\_solve con esos puntos x para encontrar la solubilidad de AgCl (que serán los puntos y). Luego grafique esos puntos x, y con la función plot() del paquete matplotlib.pyplot. Aplique la función log10 de numpy a los valores de y para visualizar mejor la tendencia.<br> \n",
    "<br>\n",
    "\n",
    "<li> ¿Que efecto tiene el ión común sobre la solubilidad del AgCl?</li>\n",
    "\n",
    "</ul>\n",
    "\n",
    "</div>"
   ]
  },
  {
   "cell_type": "code",
   "execution_count": 41,
   "metadata": {},
   "outputs": [],
   "source": [
    "# ESCRIBA SUS RESPUESTAS EN ESTA CELDA "
   ]
  },
  {
   "cell_type": "markdown",
   "metadata": {},
   "source": [
    "Estas mismas gráficas podriamos haberlas construido con Excel, no?. Sin embargo, en casos en los que ocurren múltiples reacciones que afectan las concentraciones de equilibrio, necesitaremos resolver múltiples ecuaciones simultáneamente, que normalmente no son lineales. Por ejemplo, agreguemos una ecuación adicional a nuestro problema: \n",
    "\n",
    "$$\\textrm{Ag}^{+}_{(aq)} + \\textrm{2 Cl}^{-}_{(aq)} \\rightarrow \\textrm{AgCl}^{-}_{2(aq)} \\qquad \\textrm{K}_{F} = 1.78 \\textrm{x} 10^{5}$$ \n",
    "\n",
    "Para encontrar la solubilidad del AgCl en este caso usaremos la función fsolve() del paquete scipy. La función fsolve() emplea un proceso iterativo para encontrar la solución de un conjunto de ecuaciones y funciona con ecuaciones no lineales!. Para nuestro problema tenemos cuatro concentraciones desconocidas: ([$\\textrm{Ag}^{+}_{(aq)}$], [$\\textrm{Cl}^{-}_{(aq)}$], [$\\textrm{AgCl}^{-}_{2(aq)}$], [$\\textrm{K}^{+}_{(aq)}$]), por lo tanto necesitaremos cuatro ecuaciones. Tambien necesitamos proporcionar a fsolve() las concentraciones  iniciales de los iones. En principio, supongamos que la concentración de KCl es 0,1 M. Por lo tanto, nuestro estado inicial es: [Ag$^{+}$] = [$\\textrm{AgCl}^{-}_{2(aq)}$] = 0 y [Cl$^{-}$] = [K$^{+}$] = 0.1 M. Además, debido a que fsolve() requiere tambien una función como entrada, necesitamos escribir una función a la que llamaremos  AgCl\\_sol2(), que devolverá las cuatro ecuaciones. \n"
   ]
  },
  {
   "cell_type": "code",
   "execution_count": 22,
   "metadata": {},
   "outputs": [
    {
     "name": "stdout",
     "output_type": "stream",
     "text": [
      "A una concentration de KCl de 0.1 la solubilidad del AgCl es 3.24E-06\n"
     ]
    }
   ],
   "source": [
    "import scipy.optimize as opt\n",
    "\n",
    "initAg = initAgCl2 = 0\n",
    "initCl = initK = 0.1\n",
    "\n",
    "initparams = (initAg, initAgCl2, initCl, initK)\n",
    "\n",
    "def AgCl_sol2(concentrations):\n",
    "    (Ag_conc2, AgCl2_conc2, Cl_conc2, K_conc2) = concentrations\n",
    "    \n",
    "    firstEq = Ag_conc2 * Cl_conc2 - 1.82E-10\n",
    "    secondEq = AgCl2_conc2 - Ag_conc2 * Cl_conc2 ** 2 * 1.78E5\n",
    "    thirdEq = Ag_conc2 + K_conc2 - Cl_conc2 - AgCl2_conc2\n",
    "    fourthEq = K_conc2 - K_conc2\n",
    "    \n",
    "    return[firstEq, secondEq, thirdEq, fourthEq]\n",
    "\n",
    "solution = opt.fsolve(AgCl_sol2,initparams)\n",
    "\n",
    "solubility = \"{:.2E}\".format(solution[0] + solution[1])\n",
    "\n",
    "print(\"A una concentration de KCl de\", initK, \"la solubilidad del AgCl es\", solubility)"
   ]
  },
  {
   "cell_type": "markdown",
   "metadata": {},
   "source": [
    "Notese que la solubilidad total del AgCl en este caso será [$\\textrm{Ag}^{+}_{(aq)}$] + [$\\textrm{AgCl}^{-}_{2(aq)}$].\n",
    "\n",
    "Preste atención a la función AgCl\\_sol2(). ¿De donde vienen la 1era, 2da, 3era y 4ta ecuación? Notará que las cuatro  se manipularon de modo que sean igual a cero. Este es un requisito de la función fsolve(). \n",
    "\n",
    "Ahora puedo usar la funciones AgCl\\_sol2() y fsolve() para calcular y graficar la solubilidad de AgCl en KCl, con una concentración de KCl que va desde cerca de cero hasta 0,1 M. "
   ]
  },
  {
   "cell_type": "code",
   "execution_count": 26,
   "metadata": {},
   "outputs": [
    {
     "data": {
      "image/png": "[encoded data removed]",
      "text/plain": [
       "<Figure size 432x288 with 1 Axes>"
      ]
     },
     "metadata": {
      "needs_background": "light"
     },
     "output_type": "display_data"
    }
   ],
   "source": [
    "guess_array2 = tuple(zip(np.zeros(datapts),np.zeros(datapts),logxrange,logxrange))\n",
    "\n",
    "out_array2 = []\n",
    "silver_conc2 = []\n",
    "silverchloride_conc2 = []\n",
    "chloride_conc2 = []\n",
    "potassium_conc2 = []\n",
    "\n",
    "for num in range(0,datapts):\n",
    "    out_array2.append(list(opt.fsolve(AgCl_sol2,guess_array2[num])))\n",
    "    silver_conc2.append(out_array2[num][0])\n",
    "    silverchloride_conc2.append(out_array2[num][1])    \n",
    "    chloride_conc2.append(out_array2[num][2])\n",
    "    potassium_conc2.append(out_array2[num][3])\n",
    "\n",
    "total_solubility = np.add(silver_conc2, silverchloride_conc2)\n",
    "\n",
    "plt.plot(potassium_conc2,np.log10(total_solubility),'ro')\n",
    "plt.title(\"Figura 4 - concentration de AgCl\")\n",
    "plt.xlabel('concentration de KCl (moles/litro)')\n",
    "plt.ylabel('Log de la solubilidad de Ag+')\n",
    "plt.show()"
   ]
  },
  {
   "cell_type": "markdown",
   "metadata": {},
   "source": [
    "Aquí vemos un comportamiento muy diferente para la solubilidad del cloruro de plata de lo que predijimos anteriormente, comportamiento que en realidad es consistente con lo que se observa experimentalmente."
   ]
  },
  {
   "cell_type": "markdown",
   "metadata": {},
   "source": [
    "### 3. Análisis Estadístico con Pandas "
   ]
  },
  {
   "cell_type": "markdown",
   "metadata": {},
   "source": [
    "Esta sección se enfoca en leer datos a partir de archivos y analizar grandes conjuntos de datos con el paquete \"Pandas\" de python. En particular, vamos a analizar 22 años (recopilados y registrados cada 15 minutos) de datos de calidad del agua recopilados un estuario en la Bahía de Monterey (Estados Unidos). \n",
    "Primero importamos los paquetes necesarios."
   ]
  },
  {
   "cell_type": "code",
   "execution_count": 27,
   "metadata": {},
   "outputs": [],
   "source": [
    "import pandas as pd\n",
    "import numpy as np\n",
    "import matplotlib.pyplot as plt\n",
    "import datetime"
   ]
  },
  {
   "cell_type": "markdown",
   "metadata": {},
   "source": [
    "Importemos el conjunto de datos, un archivo csv que contiene varias mediciones de agua. Descargar el archivo de: https://drive.google.com/file/d/1X_FMfg-o-rmHUDih9AzeSmJ23ZYNmz5g/view?usp=sharing <br>\n",
    "Pandas tiene la capacidad de leer una variedad de diferentes tipos de archivos de datos, por lo que debemos usar la función correcta para leer nuestro archivo, que es un archivo csv (valores separados por comas).Asegúrese de cambiar la ruta a cualquier directorio en el que coloque el archivo de datos (ELKSMWQ.csv). "
   ]
  },
  {
   "cell_type": "code",
   "execution_count": 28,
   "metadata": {},
   "outputs": [],
   "source": [
    "path = \"\"\n",
    "WaterFilename = \"ELKSMWQ.csv\"\n",
    "WaterData = pd.read_csv(path+WaterFilename, header=2, skipfooter=51, engine='python')"
   ]
  },
  {
   "cell_type": "markdown",
   "metadata": {},
   "source": [
    "Hay datos en el archivo que no necesitamos, así que deshagámonos de algunas de las columnas de datos. Además, debido a la forma en que se recopilaron los datos, la importación de pandas no puede decir qué tipo de datos hay en el archivo. Entonces, definamos qué tipo de datos hay en cada columna (enteros, caracteres, float, fechas)."
   ]
  },
  {
   "cell_type": "code",
   "execution_count": 29,
   "metadata": {},
   "outputs": [],
   "source": [
    "WaterDataAbrev = WaterData.drop(['isSWMP','Historical','ProvisionalPlus','F_Record','F_Temp','F_SpCond','F_Sal','F_DO_pct','F_DO_mgl','F_Depth','F_cDepth','F_Level','cLevel','F_cLevel','F_pH','F_Turb','cDepth','Level','Turb','Unnamed: 28'], axis=1)\n",
    "WaterDataAbrev=WaterDataAbrev.astype({'Temp':'float','SpCond':'float','Sal':'float','DO_pct':'float','DO_mgl':'float','Depth':'float','pH':'float'})\n",
    "WaterDataAbrev.DateTimeStamp = pd.to_datetime(WaterDataAbrev.DateTimeStamp)"
   ]
  },
  {
   "cell_type": "markdown",
   "metadata": {},
   "source": [
    "Veamos que quedo: "
   ]
  },
  {
   "cell_type": "code",
   "execution_count": 30,
   "metadata": {},
   "outputs": [
    {
     "data": {
      "text/html": [
       "<div>\n",
       "<style scoped>\n",
       "    .dataframe tbody tr th:only-of-type {\n",
       "        vertical-align: middle;\n",
       "    }\n",
       "\n",
       "    .dataframe tbody tr th {\n",
       "        vertical-align: top;\n",
       "    }\n",
       "\n",
       "    .dataframe thead th {\n",
       "        text-align: right;\n",
       "    }\n",
       "</style>\n",
       "<table border=\"1\" class=\"dataframe\">\n",
       "  <thead>\n",
       "    <tr style=\"text-align: right;\">\n",
       "      <th></th>\n",
       "      <th>Station_Code</th>\n",
       "      <th>DateTimeStamp</th>\n",
       "      <th>Temp</th>\n",
       "      <th>SpCond</th>\n",
       "      <th>Sal</th>\n",
       "      <th>DO_pct</th>\n",
       "      <th>DO_mgl</th>\n",
       "      <th>Depth</th>\n",
       "      <th>pH</th>\n",
       "    </tr>\n",
       "  </thead>\n",
       "  <tbody>\n",
       "    <tr>\n",
       "      <td>0</td>\n",
       "      <td>elksmwq</td>\n",
       "      <td>1996-04-01 00:00:00</td>\n",
       "      <td>16.1</td>\n",
       "      <td>46.12</td>\n",
       "      <td>30.0</td>\n",
       "      <td>114.9</td>\n",
       "      <td>9.4</td>\n",
       "      <td>1.40</td>\n",
       "      <td>8.4</td>\n",
       "    </tr>\n",
       "    <tr>\n",
       "      <td>1</td>\n",
       "      <td>elksmwq</td>\n",
       "      <td>1996-04-01 00:15:00</td>\n",
       "      <td>16.1</td>\n",
       "      <td>45.69</td>\n",
       "      <td>29.6</td>\n",
       "      <td>114.8</td>\n",
       "      <td>9.4</td>\n",
       "      <td>1.34</td>\n",
       "      <td>8.4</td>\n",
       "    </tr>\n",
       "    <tr>\n",
       "      <td>2</td>\n",
       "      <td>elksmwq</td>\n",
       "      <td>1996-04-01 00:30:00</td>\n",
       "      <td>16.2</td>\n",
       "      <td>46.19</td>\n",
       "      <td>30.0</td>\n",
       "      <td>114.5</td>\n",
       "      <td>9.4</td>\n",
       "      <td>1.28</td>\n",
       "      <td>8.4</td>\n",
       "    </tr>\n",
       "    <tr>\n",
       "      <td>3</td>\n",
       "      <td>elksmwq</td>\n",
       "      <td>1996-04-01 00:45:00</td>\n",
       "      <td>16.4</td>\n",
       "      <td>45.68</td>\n",
       "      <td>29.6</td>\n",
       "      <td>114.8</td>\n",
       "      <td>9.4</td>\n",
       "      <td>1.20</td>\n",
       "      <td>8.4</td>\n",
       "    </tr>\n",
       "    <tr>\n",
       "      <td>4</td>\n",
       "      <td>elksmwq</td>\n",
       "      <td>1996-04-01 01:00:00</td>\n",
       "      <td>16.4</td>\n",
       "      <td>45.85</td>\n",
       "      <td>29.8</td>\n",
       "      <td>114.7</td>\n",
       "      <td>9.4</td>\n",
       "      <td>1.13</td>\n",
       "      <td>8.4</td>\n",
       "    </tr>\n",
       "    <tr>\n",
       "      <td>...</td>\n",
       "      <td>...</td>\n",
       "      <td>...</td>\n",
       "      <td>...</td>\n",
       "      <td>...</td>\n",
       "      <td>...</td>\n",
       "      <td>...</td>\n",
       "      <td>...</td>\n",
       "      <td>...</td>\n",
       "      <td>...</td>\n",
       "    </tr>\n",
       "    <tr>\n",
       "      <td>618377</td>\n",
       "      <td>elksmwq</td>\n",
       "      <td>2018-05-22 22:45:00</td>\n",
       "      <td>16.7</td>\n",
       "      <td>50.95</td>\n",
       "      <td>33.5</td>\n",
       "      <td>83.0</td>\n",
       "      <td>6.6</td>\n",
       "      <td>NaN</td>\n",
       "      <td>8.0</td>\n",
       "    </tr>\n",
       "    <tr>\n",
       "      <td>618378</td>\n",
       "      <td>elksmwq</td>\n",
       "      <td>2018-05-22 23:00:00</td>\n",
       "      <td>16.8</td>\n",
       "      <td>50.98</td>\n",
       "      <td>33.5</td>\n",
       "      <td>83.2</td>\n",
       "      <td>6.6</td>\n",
       "      <td>NaN</td>\n",
       "      <td>8.0</td>\n",
       "    </tr>\n",
       "    <tr>\n",
       "      <td>618379</td>\n",
       "      <td>elksmwq</td>\n",
       "      <td>2018-05-22 23:15:00</td>\n",
       "      <td>16.8</td>\n",
       "      <td>50.98</td>\n",
       "      <td>33.5</td>\n",
       "      <td>82.1</td>\n",
       "      <td>6.5</td>\n",
       "      <td>NaN</td>\n",
       "      <td>8.0</td>\n",
       "    </tr>\n",
       "    <tr>\n",
       "      <td>618380</td>\n",
       "      <td>elksmwq</td>\n",
       "      <td>2018-05-22 23:30:00</td>\n",
       "      <td>16.8</td>\n",
       "      <td>51.00</td>\n",
       "      <td>33.5</td>\n",
       "      <td>80.4</td>\n",
       "      <td>6.4</td>\n",
       "      <td>NaN</td>\n",
       "      <td>8.0</td>\n",
       "    </tr>\n",
       "    <tr>\n",
       "      <td>618381</td>\n",
       "      <td>elksmwq</td>\n",
       "      <td>2018-05-22 23:45:00</td>\n",
       "      <td>16.8</td>\n",
       "      <td>51.00</td>\n",
       "      <td>33.5</td>\n",
       "      <td>79.8</td>\n",
       "      <td>6.3</td>\n",
       "      <td>NaN</td>\n",
       "      <td>8.0</td>\n",
       "    </tr>\n",
       "  </tbody>\n",
       "</table>\n",
       "<p>618382 rows × 9 columns</p>\n",
       "</div>"
      ],
      "text/plain": [
       "       Station_Code       DateTimeStamp  Temp  SpCond   Sal  DO_pct  DO_mgl  \\\n",
       "0           elksmwq 1996-04-01 00:00:00  16.1   46.12  30.0   114.9     9.4   \n",
       "1           elksmwq 1996-04-01 00:15:00  16.1   45.69  29.6   114.8     9.4   \n",
       "2           elksmwq 1996-04-01 00:30:00  16.2   46.19  30.0   114.5     9.4   \n",
       "3           elksmwq 1996-04-01 00:45:00  16.4   45.68  29.6   114.8     9.4   \n",
       "4           elksmwq 1996-04-01 01:00:00  16.4   45.85  29.8   114.7     9.4   \n",
       "...             ...                 ...   ...     ...   ...     ...     ...   \n",
       "618377      elksmwq 2018-05-22 22:45:00  16.7   50.95  33.5    83.0     6.6   \n",
       "618378      elksmwq 2018-05-22 23:00:00  16.8   50.98  33.5    83.2     6.6   \n",
       "618379      elksmwq 2018-05-22 23:15:00  16.8   50.98  33.5    82.1     6.5   \n",
       "618380      elksmwq 2018-05-22 23:30:00  16.8   51.00  33.5    80.4     6.4   \n",
       "618381      elksmwq 2018-05-22 23:45:00  16.8   51.00  33.5    79.8     6.3   \n",
       "\n",
       "        Depth   pH  \n",
       "0        1.40  8.4  \n",
       "1        1.34  8.4  \n",
       "2        1.28  8.4  \n",
       "3        1.20  8.4  \n",
       "4        1.13  8.4  \n",
       "...       ...  ...  \n",
       "618377    NaN  8.0  \n",
       "618378    NaN  8.0  \n",
       "618379    NaN  8.0  \n",
       "618380    NaN  8.0  \n",
       "618381    NaN  8.0  \n",
       "\n",
       "[618382 rows x 9 columns]"
      ]
     },
     "execution_count": 30,
     "metadata": {},
     "output_type": "execute_result"
    }
   ],
   "source": [
    "WaterDataAbrev"
   ]
  },
  {
   "cell_type": "markdown",
   "metadata": {},
   "source": [
    "Algunas cosas a tener en cuenta sobre los datos. Primero, hay 618,382 filas de datos. ¡Son muchos datos! Lo suficiente como para que incluso usando un programa convencional, como Excel, sea muy lento. En segundo lugar, hay 9 columnas de datos. La primera columna es el código de la estación, solo un identificador de dónde se recolectaron los datos. La segunda columna es la hora y la fecha en que se recopilaron los datos. La tercera columna es la temperatura del agua (en °C). Algunas de las entradas de datos son NaN (NaN = Not a Number), y otras son -296.6 °C. Esos son errores obvios de los que podríamos querer ocuparnos en algún momento. La cuarta columna es la conductividad específica del agua (en miliSiemens (mS)/cm), la quinta columna es la salinidad del agua (en unidades prácticas de salinidad (psu)), la sexta columna es la cantidad de oxígeno disuelto (en porcentaje de saturación), la séptima columna es la cantidad de oxígeno disuelto (en mg/L), la octava columna es la profundidad del agua de la medición (en metros) y la novena columna es el pH del agua.\n",
    "\n",
    "\n",
    "Veamos si hay alguna correlación entre las columnas."
   ]
  },
  {
   "cell_type": "code",
   "execution_count": 31,
   "metadata": {},
   "outputs": [
    {
     "data": {
      "text/html": [
       "<div>\n",
       "<style scoped>\n",
       "    .dataframe tbody tr th:only-of-type {\n",
       "        vertical-align: middle;\n",
       "    }\n",
       "\n",
       "    .dataframe tbody tr th {\n",
       "        vertical-align: top;\n",
       "    }\n",
       "\n",
       "    .dataframe thead th {\n",
       "        text-align: right;\n",
       "    }\n",
       "</style>\n",
       "<table border=\"1\" class=\"dataframe\">\n",
       "  <thead>\n",
       "    <tr style=\"text-align: right;\">\n",
       "      <th></th>\n",
       "      <th>Temp</th>\n",
       "      <th>SpCond</th>\n",
       "      <th>Sal</th>\n",
       "      <th>DO_pct</th>\n",
       "      <th>DO_mgl</th>\n",
       "      <th>Depth</th>\n",
       "      <th>pH</th>\n",
       "    </tr>\n",
       "  </thead>\n",
       "  <tbody>\n",
       "    <tr>\n",
       "      <td>Temp</td>\n",
       "      <td>1.000000</td>\n",
       "      <td>0.297409</td>\n",
       "      <td>0.340337</td>\n",
       "      <td>-0.144920</td>\n",
       "      <td>-0.398509</td>\n",
       "      <td>-0.185076</td>\n",
       "      <td>-0.095806</td>\n",
       "    </tr>\n",
       "    <tr>\n",
       "      <td>SpCond</td>\n",
       "      <td>0.297409</td>\n",
       "      <td>1.000000</td>\n",
       "      <td>0.977717</td>\n",
       "      <td>-0.116938</td>\n",
       "      <td>-0.244538</td>\n",
       "      <td>0.048964</td>\n",
       "      <td>0.281564</td>\n",
       "    </tr>\n",
       "    <tr>\n",
       "      <td>Sal</td>\n",
       "      <td>0.340337</td>\n",
       "      <td>0.977717</td>\n",
       "      <td>1.000000</td>\n",
       "      <td>-0.129917</td>\n",
       "      <td>-0.265002</td>\n",
       "      <td>0.048657</td>\n",
       "      <td>0.221414</td>\n",
       "    </tr>\n",
       "    <tr>\n",
       "      <td>DO_pct</td>\n",
       "      <td>-0.144920</td>\n",
       "      <td>-0.116938</td>\n",
       "      <td>-0.129917</td>\n",
       "      <td>1.000000</td>\n",
       "      <td>0.959745</td>\n",
       "      <td>-0.034994</td>\n",
       "      <td>0.378883</td>\n",
       "    </tr>\n",
       "    <tr>\n",
       "      <td>DO_mgl</td>\n",
       "      <td>-0.398509</td>\n",
       "      <td>-0.244538</td>\n",
       "      <td>-0.265002</td>\n",
       "      <td>0.959745</td>\n",
       "      <td>1.000000</td>\n",
       "      <td>-0.006197</td>\n",
       "      <td>0.347486</td>\n",
       "    </tr>\n",
       "    <tr>\n",
       "      <td>Depth</td>\n",
       "      <td>-0.185076</td>\n",
       "      <td>0.048964</td>\n",
       "      <td>0.048657</td>\n",
       "      <td>-0.034994</td>\n",
       "      <td>-0.006197</td>\n",
       "      <td>1.000000</td>\n",
       "      <td>0.032644</td>\n",
       "    </tr>\n",
       "    <tr>\n",
       "      <td>pH</td>\n",
       "      <td>-0.095806</td>\n",
       "      <td>0.281564</td>\n",
       "      <td>0.221414</td>\n",
       "      <td>0.378883</td>\n",
       "      <td>0.347486</td>\n",
       "      <td>0.032644</td>\n",
       "      <td>1.000000</td>\n",
       "    </tr>\n",
       "  </tbody>\n",
       "</table>\n",
       "</div>"
      ],
      "text/plain": [
       "            Temp    SpCond       Sal    DO_pct    DO_mgl     Depth        pH\n",
       "Temp    1.000000  0.297409  0.340337 -0.144920 -0.398509 -0.185076 -0.095806\n",
       "SpCond  0.297409  1.000000  0.977717 -0.116938 -0.244538  0.048964  0.281564\n",
       "Sal     0.340337  0.977717  1.000000 -0.129917 -0.265002  0.048657  0.221414\n",
       "DO_pct -0.144920 -0.116938 -0.129917  1.000000  0.959745 -0.034994  0.378883\n",
       "DO_mgl -0.398509 -0.244538 -0.265002  0.959745  1.000000 -0.006197  0.347486\n",
       "Depth  -0.185076  0.048964  0.048657 -0.034994 -0.006197  1.000000  0.032644\n",
       "pH     -0.095806  0.281564  0.221414  0.378883  0.347486  0.032644  1.000000"
      ]
     },
     "execution_count": 31,
     "metadata": {},
     "output_type": "execute_result"
    }
   ],
   "source": [
    "WaterDataAbrev.corr()"
   ]
  },
  {
   "cell_type": "markdown",
   "metadata": {},
   "source": [
    "Parece haber cierta correlación, en particular entre el pH y el oxígeno disuelto y la salinidad, así como entre la temperatura y la profundidad del agua. Ahora, probemos algunas de las características más geniales de los pandas. Primero, establezcamos la columna de fecha/hora como nuestro índice (seria nuestra variable independiente)."
   ]
  },
  {
   "cell_type": "code",
   "execution_count": 32,
   "metadata": {},
   "outputs": [],
   "source": [
    "OrderedWaterData=WaterDataAbrev.set_index('DateTimeStamp')"
   ]
  },
  {
   "cell_type": "markdown",
   "metadata": {},
   "source": [
    "Ahora podemos hacer que Pandas haga todo tipo de análisis estadístico por nosotros, sin que tengamos que preocuparnos por los detalles o reescribir algoritmos. Por ejemplo, veamos el promedio semanal de la salinidad:"
   ]
  },
  {
   "cell_type": "code",
   "execution_count": 33,
   "metadata": {},
   "outputs": [
    {
     "data": {
      "text/plain": [
       "DateTimeStamp\n",
       "1996-04-07    30.505060\n",
       "1996-04-14    30.767708\n",
       "1996-04-21    31.256250\n",
       "1996-04-28    30.792932\n",
       "1996-05-05    33.284226\n",
       "                ...    \n",
       "2018-04-29    30.875149\n",
       "2018-05-06    30.944196\n",
       "2018-05-13    31.826935\n",
       "2018-05-20    33.279911\n",
       "2018-05-27    33.359896\n",
       "Freq: W-SUN, Name: Sal, Length: 1156, dtype: float64"
      ]
     },
     "execution_count": 33,
     "metadata": {},
     "output_type": "execute_result"
    }
   ],
   "source": [
    "OrderedWaterData.resample('W')['Sal'].mean()"
   ]
  },
  {
   "cell_type": "markdown",
   "metadata": {},
   "source": [
    "También podemos graficar los datos durante un cierto período de tiempo. Por ejemplo, ¿cómo cambió la salinidad desde mayo de 1996 hasta junio de 1996?"
   ]
  },
  {
   "cell_type": "code",
   "execution_count": 34,
   "metadata": {},
   "outputs": [
    {
     "data": {
      "image/png": "[encoded data removed]",
      "text/plain": [
       "<Figure size 432x288 with 1 Axes>"
      ]
     },
     "metadata": {
      "needs_background": "light"
     },
     "output_type": "display_data"
    }
   ],
   "source": [
    "SalinityPlot = OrderedWaterData['1996-May':'1996-Jun']['Sal']\n",
    "SalinityPlot.plot()\n",
    "plt.title(\"Figura 5 - Salinidad en función del tiempo\")\n",
    "plt.xlabel('Fecha')\n",
    "plt.ylabel('Salinidad')\n",
    "ax = plt.gca()\n",
    "ax.set_ylim(0,100)\n",
    "plt.show()"
   ]
  },
  {
   "cell_type": "markdown",
   "metadata": {},
   "source": [
    "Vamos a crear una nueva tabla de datos para los datos de los promedios semanales y agregaremos las desviaciones estándar. Sin embargo, vamos a ignorar la columna de profundidad porque no parece muy importante y muchas de las entradas de datos son NaN."
   ]
  },
  {
   "cell_type": "code",
   "execution_count": 36,
   "metadata": {},
   "outputs": [
    {
     "data": {
      "text/html": [
       "<div>\n",
       "<style scoped>\n",
       "    .dataframe tbody tr th:only-of-type {\n",
       "        vertical-align: middle;\n",
       "    }\n",
       "\n",
       "    .dataframe tbody tr th {\n",
       "        vertical-align: top;\n",
       "    }\n",
       "\n",
       "    .dataframe thead th {\n",
       "        text-align: right;\n",
       "    }\n",
       "</style>\n",
       "<table border=\"1\" class=\"dataframe\">\n",
       "  <thead>\n",
       "    <tr style=\"text-align: right;\">\n",
       "      <th></th>\n",
       "      <th>Temp</th>\n",
       "      <th>TempErr</th>\n",
       "      <th>SpCond</th>\n",
       "      <th>SpCondErr</th>\n",
       "      <th>Sal</th>\n",
       "      <th>SalErr</th>\n",
       "      <th>DO_pct</th>\n",
       "      <th>DO_pctErr</th>\n",
       "      <th>DO_mgl</th>\n",
       "      <th>DO_mglErr</th>\n",
       "      <th>pH</th>\n",
       "      <th>pHErr</th>\n",
       "    </tr>\n",
       "    <tr>\n",
       "      <th>DateTimeStamp</th>\n",
       "      <th></th>\n",
       "      <th></th>\n",
       "      <th></th>\n",
       "      <th></th>\n",
       "      <th></th>\n",
       "      <th></th>\n",
       "      <th></th>\n",
       "      <th></th>\n",
       "      <th></th>\n",
       "      <th></th>\n",
       "      <th></th>\n",
       "      <th></th>\n",
       "    </tr>\n",
       "  </thead>\n",
       "  <tbody>\n",
       "    <tr>\n",
       "      <td>1996-04-07</td>\n",
       "      <td>16.591220</td>\n",
       "      <td>1.724669</td>\n",
       "      <td>46.870030</td>\n",
       "      <td>1.073929</td>\n",
       "      <td>30.505060</td>\n",
       "      <td>0.773155</td>\n",
       "      <td>95.431399</td>\n",
       "      <td>29.499533</td>\n",
       "      <td>7.707143</td>\n",
       "      <td>2.247789</td>\n",
       "      <td>8.252083</td>\n",
       "      <td>0.135045</td>\n",
       "    </tr>\n",
       "    <tr>\n",
       "      <td>1996-04-14</td>\n",
       "      <td>16.328571</td>\n",
       "      <td>1.377676</td>\n",
       "      <td>47.235060</td>\n",
       "      <td>1.351055</td>\n",
       "      <td>30.767708</td>\n",
       "      <td>0.976375</td>\n",
       "      <td>25.684524</td>\n",
       "      <td>24.457572</td>\n",
       "      <td>2.077083</td>\n",
       "      <td>1.963302</td>\n",
       "      <td>7.831399</td>\n",
       "      <td>0.141039</td>\n",
       "    </tr>\n",
       "    <tr>\n",
       "      <td>1996-04-21</td>\n",
       "      <td>15.392857</td>\n",
       "      <td>1.371873</td>\n",
       "      <td>47.927768</td>\n",
       "      <td>1.691262</td>\n",
       "      <td>31.256250</td>\n",
       "      <td>1.223682</td>\n",
       "      <td>11.230655</td>\n",
       "      <td>17.229722</td>\n",
       "      <td>0.926637</td>\n",
       "      <td>1.416011</td>\n",
       "      <td>7.780655</td>\n",
       "      <td>0.148256</td>\n",
       "    </tr>\n",
       "    <tr>\n",
       "      <td>1996-04-28</td>\n",
       "      <td>18.311579</td>\n",
       "      <td>1.788897</td>\n",
       "      <td>47.253549</td>\n",
       "      <td>1.029468</td>\n",
       "      <td>30.792932</td>\n",
       "      <td>0.742489</td>\n",
       "      <td>5.923379</td>\n",
       "      <td>16.266982</td>\n",
       "      <td>0.464706</td>\n",
       "      <td>1.281977</td>\n",
       "      <td>7.836241</td>\n",
       "      <td>0.080628</td>\n",
       "    </tr>\n",
       "    <tr>\n",
       "      <td>1996-05-05</td>\n",
       "      <td>17.938244</td>\n",
       "      <td>2.592252</td>\n",
       "      <td>50.679836</td>\n",
       "      <td>0.504622</td>\n",
       "      <td>33.284226</td>\n",
       "      <td>0.381097</td>\n",
       "      <td>96.279911</td>\n",
       "      <td>23.266789</td>\n",
       "      <td>7.437649</td>\n",
       "      <td>1.596941</td>\n",
       "      <td>7.545238</td>\n",
       "      <td>0.112715</td>\n",
       "    </tr>\n",
       "    <tr>\n",
       "      <td>...</td>\n",
       "      <td>...</td>\n",
       "      <td>...</td>\n",
       "      <td>...</td>\n",
       "      <td>...</td>\n",
       "      <td>...</td>\n",
       "      <td>...</td>\n",
       "      <td>...</td>\n",
       "      <td>...</td>\n",
       "      <td>...</td>\n",
       "      <td>...</td>\n",
       "      <td>...</td>\n",
       "      <td>...</td>\n",
       "    </tr>\n",
       "    <tr>\n",
       "      <td>2018-04-29</td>\n",
       "      <td>16.711012</td>\n",
       "      <td>1.591697</td>\n",
       "      <td>47.369539</td>\n",
       "      <td>0.136077</td>\n",
       "      <td>30.875149</td>\n",
       "      <td>0.103407</td>\n",
       "      <td>79.006399</td>\n",
       "      <td>16.123329</td>\n",
       "      <td>6.359821</td>\n",
       "      <td>1.162539</td>\n",
       "      <td>7.740923</td>\n",
       "      <td>0.119516</td>\n",
       "    </tr>\n",
       "    <tr>\n",
       "      <td>2018-05-06</td>\n",
       "      <td>16.829464</td>\n",
       "      <td>1.326097</td>\n",
       "      <td>47.462455</td>\n",
       "      <td>0.173550</td>\n",
       "      <td>30.944196</td>\n",
       "      <td>0.143500</td>\n",
       "      <td>72.599405</td>\n",
       "      <td>15.552721</td>\n",
       "      <td>5.843304</td>\n",
       "      <td>1.219556</td>\n",
       "      <td>7.780952</td>\n",
       "      <td>0.106958</td>\n",
       "    </tr>\n",
       "    <tr>\n",
       "      <td>2018-05-13</td>\n",
       "      <td>17.992411</td>\n",
       "      <td>1.382503</td>\n",
       "      <td>48.661503</td>\n",
       "      <td>0.453646</td>\n",
       "      <td>31.826935</td>\n",
       "      <td>0.338979</td>\n",
       "      <td>75.935714</td>\n",
       "      <td>14.208356</td>\n",
       "      <td>5.938393</td>\n",
       "      <td>1.039481</td>\n",
       "      <td>7.758036</td>\n",
       "      <td>0.110928</td>\n",
       "    </tr>\n",
       "    <tr>\n",
       "      <td>2018-05-20</td>\n",
       "      <td>17.452083</td>\n",
       "      <td>1.458076</td>\n",
       "      <td>50.652440</td>\n",
       "      <td>1.278260</td>\n",
       "      <td>33.279911</td>\n",
       "      <td>0.941919</td>\n",
       "      <td>91.266964</td>\n",
       "      <td>18.126248</td>\n",
       "      <td>7.147619</td>\n",
       "      <td>1.326603</td>\n",
       "      <td>8.020238</td>\n",
       "      <td>0.101881</td>\n",
       "    </tr>\n",
       "    <tr>\n",
       "      <td>2018-05-27</td>\n",
       "      <td>16.288542</td>\n",
       "      <td>0.591806</td>\n",
       "      <td>50.776667</td>\n",
       "      <td>0.406689</td>\n",
       "      <td>33.359896</td>\n",
       "      <td>0.312742</td>\n",
       "      <td>80.697396</td>\n",
       "      <td>6.154447</td>\n",
       "      <td>6.470833</td>\n",
       "      <td>0.489773</td>\n",
       "      <td>7.989583</td>\n",
       "      <td>0.044555</td>\n",
       "    </tr>\n",
       "  </tbody>\n",
       "</table>\n",
       "<p>1156 rows × 12 columns</p>\n",
       "</div>"
      ],
      "text/plain": [
       "                    Temp   TempErr     SpCond  SpCondErr        Sal    SalErr  \\\n",
       "DateTimeStamp                                                                   \n",
       "1996-04-07     16.591220  1.724669  46.870030   1.073929  30.505060  0.773155   \n",
       "1996-04-14     16.328571  1.377676  47.235060   1.351055  30.767708  0.976375   \n",
       "1996-04-21     15.392857  1.371873  47.927768   1.691262  31.256250  1.223682   \n",
       "1996-04-28     18.311579  1.788897  47.253549   1.029468  30.792932  0.742489   \n",
       "1996-05-05     17.938244  2.592252  50.679836   0.504622  33.284226  0.381097   \n",
       "...                  ...       ...        ...        ...        ...       ...   \n",
       "2018-04-29     16.711012  1.591697  47.369539   0.136077  30.875149  0.103407   \n",
       "2018-05-06     16.829464  1.326097  47.462455   0.173550  30.944196  0.143500   \n",
       "2018-05-13     17.992411  1.382503  48.661503   0.453646  31.826935  0.338979   \n",
       "2018-05-20     17.452083  1.458076  50.652440   1.278260  33.279911  0.941919   \n",
       "2018-05-27     16.288542  0.591806  50.776667   0.406689  33.359896  0.312742   \n",
       "\n",
       "                  DO_pct  DO_pctErr    DO_mgl  DO_mglErr        pH     pHErr  \n",
       "DateTimeStamp                                                                 \n",
       "1996-04-07     95.431399  29.499533  7.707143   2.247789  8.252083  0.135045  \n",
       "1996-04-14     25.684524  24.457572  2.077083   1.963302  7.831399  0.141039  \n",
       "1996-04-21     11.230655  17.229722  0.926637   1.416011  7.780655  0.148256  \n",
       "1996-04-28      5.923379  16.266982  0.464706   1.281977  7.836241  0.080628  \n",
       "1996-05-05     96.279911  23.266789  7.437649   1.596941  7.545238  0.112715  \n",
       "...                  ...        ...       ...        ...       ...       ...  \n",
       "2018-04-29     79.006399  16.123329  6.359821   1.162539  7.740923  0.119516  \n",
       "2018-05-06     72.599405  15.552721  5.843304   1.219556  7.780952  0.106958  \n",
       "2018-05-13     75.935714  14.208356  5.938393   1.039481  7.758036  0.110928  \n",
       "2018-05-20     91.266964  18.126248  7.147619   1.326603  8.020238  0.101881  \n",
       "2018-05-27     80.697396   6.154447  6.470833   0.489773  7.989583  0.044555  \n",
       "\n",
       "[1156 rows x 12 columns]"
      ]
     },
     "execution_count": 36,
     "metadata": {},
     "output_type": "execute_result"
    }
   ],
   "source": [
    "weekly_summary = pd.DataFrame()\n",
    "weekly_summary['Temp'] = OrderedWaterData.resample('W')['Temp'].mean()\n",
    "weekly_summary['TempErr'] = OrderedWaterData.resample('W')['Temp'].std()\n",
    "weekly_summary['SpCond'] = OrderedWaterData.resample('W')['SpCond'].mean()\n",
    "weekly_summary['SpCondErr'] = OrderedWaterData.resample('W')['SpCond'].std()\n",
    "weekly_summary['Sal'] = OrderedWaterData.resample('W')['Sal'].mean()\n",
    "weekly_summary['SalErr'] = OrderedWaterData.resample('W')['Sal'].std()\n",
    "weekly_summary['DO_pct'] = OrderedWaterData.resample('W')['DO_pct'].mean()\n",
    "weekly_summary['DO_pctErr'] = OrderedWaterData.resample('W')['DO_pct'].std()\n",
    "weekly_summary['DO_mgl'] = OrderedWaterData.resample('W')['DO_mgl'].mean()\n",
    "weekly_summary['DO_mglErr'] = OrderedWaterData.resample('W')['DO_mgl'].std()\n",
    "weekly_summary['pH'] = OrderedWaterData.resample('W')['pH'].mean()\n",
    "weekly_summary['pHErr'] = OrderedWaterData.resample('W')['pH'].std()\n",
    "weekly_summary"
   ]
  },
  {
   "cell_type": "markdown",
   "metadata": {},
   "source": [
    "Comparemos la salinidad promedio semanal de 1997 con la de 2007, para ver si hay alguna diferencia."
   ]
  },
  {
   "cell_type": "code",
   "execution_count": 38,
   "metadata": {},
   "outputs": [
    {
     "data": {
      "image/png": "[encoded data removed]",
      "text/plain": [
       "<Figure size 432x288 with 1 Axes>"
      ]
     },
     "metadata": {
      "needs_background": "light"
     },
     "output_type": "display_data"
    }
   ],
   "source": [
    "WeeklySalinityPlot1 = weekly_summary['1997-Jan':'1997-Dec']['Sal']\n",
    "WeeklySalinityErr1 = weekly_summary['1997-Jan':'1997-Dec']['SalErr']\n",
    "\n",
    "WeeklySalinityPlot2 = weekly_summary['2007-Jan':'2007-Dec']['Sal']\n",
    "WeeklySalinityErr2 = weekly_summary['2007-Jan':'2007-Dec']['SalErr']\n",
    "\n",
    "plt.errorbar(WeeklySalinityPlot1.index, WeeklySalinityPlot1, yerr = WeeklySalinityErr1, fmt='ro')\n",
    "plt.errorbar(WeeklySalinityPlot1.index, WeeklySalinityPlot2, yerr = WeeklySalinityErr2, fmt='bo')\n",
    "plt.title(\"Figura 6 - Salinidad en función del tiempo\")\n",
    "plt.xlabel('Fecha')\n",
    "plt.ylabel('Salinidad')\n",
    "ax = plt.gca()\n",
    "ax.set_ylim(10,40)\n",
    "ax.set_ylim\n",
    "plt.show()"
   ]
  },
  {
   "cell_type": "markdown",
   "metadata": {},
   "source": [
    "Pareciera ser que la salinidad en 2007 (en azul) es más alta que la salinidad en 1997, al menos en los primeros meses."
   ]
  },
  {
   "cell_type": "markdown",
   "metadata": {},
   "source": [
    "<div class=\"alert alert-block alert-warning\">\n",
    "\n",
    "#### Actividad 3\n",
    "\n",
    "<ul>\n",
    "    \n",
    "<li> Ahora su tarea es comparar promedios mensuales de pH, en lugar de promedios semanales de salinidad. </li>\n",
    "\n",
    "<b>Ayuda:</b> En primer lugar, cree un nueva tabla de datos (Data frame), similar al anterior, pero con el nombre  monthly_averages y que consista en promedios mensuales y desviaciones estándar.<br>\n",
    "<br>\n",
    "    \n",
    "\n",
    "<li> Grafique el pH promedio mensual para 1998, 2003 y 2008 en el mismo gráfico.</li>\n",
    "\n",
    "<li> ¿El pH varía de un año a otro? Explique.</li>\n",
    "</ul>\n",
    "\n",
    "</div>"
   ]
  },
  {
   "cell_type": "code",
   "execution_count": 40,
   "metadata": {},
   "outputs": [],
   "source": [
    "# ESCRIBA SUS RESPUESTAS EN ESTA CELDA "
   ]
  },
  {
   "cell_type": "markdown",
   "metadata": {},
   "source": [
    "### Referencias\n",
    "* https://pubs.acs.org/doi/10.1021/acs.jchemed.9b01131\n",
    "* https://github.com/parkersruth/python-for-chemists\n",
    "* https://pythoninchemistry.org/"
   ]
  },
  {
   "cell_type": "code",
   "execution_count": null,
   "metadata": {},
   "outputs": [],
   "source": []
  }
 ],
 "metadata": {
  "celltoolbar": "Raw Cell Format",
  "kernelspec": {
   "display_name": "Python 3",
   "language": "python",
   "name": "python3"
  },
  "language_info": {
   "codemirror_mode": {
    "name": "ipython",
    "version": 3
   },
   "file_extension": ".py",
   "mimetype": "text/x-python",
   "name": "python",
   "nbconvert_exporter": "python",
   "pygments_lexer": "ipython3",
   "version": "3.7.4"
  }
 },
 "nbformat": 4,
 "nbformat_minor": 2
}
