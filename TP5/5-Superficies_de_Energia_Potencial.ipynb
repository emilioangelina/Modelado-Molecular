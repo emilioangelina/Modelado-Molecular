{
 "cells": [
  {
   "cell_type": "markdown",
   "metadata": {},
   "source": [
    "## Superficies de Energía Potencial\n",
    "\n",
    "Una Superficie de Energía Potencial (SEP) es la relación, matemática o gráfica, entre la energía de una molécula (o una colección de moléculas) y su geometría. \n",
    "\n",
    "\n",
    "La SEP es uno de los \"modelos\" más fundamentales en química y proporciona la conexión entre los datos experimentales y el modelado molecular. Por ejemplo, si A y B pueden interconvertirse, y se observa una mayor concentración de B en equilibrio en comparación con A, entonces esto se traduce en la SEP cualitativa que se muestra en la siguiente figura:\n",
    "    \n",
    "<img src=\"figures/SEP_reactionAB.png\" width=300 height=300 />\n",
    "<center><b>Figura 1</b></center>\n",
    "<br>\n",
    "\n",
    "Aquí la “coordenada de reacción” (RC) representa la geometría molecular a lo largo del camino de reacción. En realidad, si solo hay una coordenada, la superficie se llama curva de energía potencial (CEP) o perfil de energía. \n",
    "Los programas de modelado molecular calculan la energía potencial de una molécula dada la geometría molecular, es decir, la energía como función de las coordenadas atómicas, E(RC), usando diferentes modelos teóricos. \n",
    "\n",
    "\n",
    "Consideremos el caso simple del H<sub>2</sub> , donde la distancia entre los átomos de hidrógeno (R) es la coordenada de reacción, E(R). La CEP es entonces simplemente un gráfico de la energía evaluada para varios valores de R. \n",
    "\n",
    "<img src=\"figures/SEP_H2.png\" width=300 height=300 />\n",
    "<center><b>Figura 2</b></center>\n",
    "<br>\n",
    "\n",
    "La diferencia de energía entre el fondo del pozo (el mínimo) y la asíntota en R, es una medida de la fuerza del enlace (bond strength) y el valor de R en el fondo del pozo corresponde a la longitud de enlace, R<sub>e</sub> (en general una geometría de mínima energía se denomina geometría de equilibrio).\n",
    "\n",
    "Una CEP razonablemente completa del H<sub>2</sub> requiere al menos 10 evaluaciones de energía a lo largo de R, lo cual no es un problema. Pero para moléculas más grandes, calcular la SEP completa es impráctico. \n",
    "Sin embargo, a menudo solo es necesario calcular la energía en algunos puntos clave de la SEP. En el caso de H<sub>2</sub>, realmente solo necesitamos la energía en el mínimo y en la asíntota para predecir la fuerza del enlace. Pero, ¿cómo sabremos si encontramos estos puntos sin calcular toda la SEP? Ambos puntos tienen en común lo siguiente: La primera derivada de la energía con respecto a R (es decir, el gradiente) es cero:\n",
    "\n",
    "\n",
    "$$\\bigg[\\frac{dE}{dR}\\bigg]=0$$\n",
    "\n",
    "\n",
    "Estos puntos se conocen como <i>puntos estacionarios</i>. El gradiente es el negativo de la fuerza. Así, la fuerza neta sobre los átomos es cero en un punto estacionario. La longitud del enlace H<sub>2</sub> es el valor de R para el cual las fuerzas netas sobre los átomos son cero (y la energía es la más baja).\n",
    "\n",
    "Del mismo modo, el mínimo y la asíntota se pueden distinguir calculando las segundas derivadas de energía (es decir, el cambio en el gradiente):\n",
    "\n",
    "$\\big[\\frac{d^{2}E}{dR^{2}}\\big] > 0 ~~~en~mínimos~~~~~~~~~ \\big[\\frac{d^{2}E}{dR^{2}}\\big] = 0 ~~~en~asintotas~~~~~~~~~~~ \\big[\\frac{d^{2}E}{dR^{2}}\\big] < 0 ~~~en~máximos $ \n",
    "\n",
    "\n",
    "\n",
    "\n",
    "### Mecánica Cuántica\n",
    "\n",
    "Hasta ahora hemos hablado de qué es una SEP y que hacer con ella pero\n",
    "ahora es el momento de considerar cómo calculamos realmente la energía. Hay dos formas principales: mecánica molecular y mecánica cuántica. Veamos en primer lugar el segundo enfoque. \n",
    "\n",
    "\n",
    "<div class=\"alert alert-info\" role=\"alert\">\n",
    "\n",
    "La mecánica cuántica es la única teoría que explica como los electrones y los núcleos se combinan para formar átomos, y por qué los átomos forman enlaces químicos para formar moléculas. Lo \"nuevo\" de la mecánica cuántica en comparación con la física clásica es que los electrones y los núcleos son ondas y no partículas. La longitud de onda ($\\lambda$) viene dada por la ecuación de De Broglie:\n",
    "\n",
    "$$\\lambda = \\frac{h}{mv} \\tag{1}$$ \n",
    "\n",
    "donde $p$, $m$ y $v$ son el momento, la masa y la velocidad de la partícula, respectivamente, y $h$ es la constante de Planck. La constante de Planck es muy pequeña, por lo que solo las partículas muy ligeras (m pequeña) tienen una longitud de onda medible, lo que significa que tratarlas como partículas no es una buena aproximación.\n",
    "\n",
    "La mecánica cuántica es un conjunto de ecuaciones que nos dicen cómo calcular la energía y la “posición” de una onda con masa y carga. Lo que sigue a continuación es una motivación (en oposición a una derivación) de la ecuación clave en química cuántica, la <b>ecuación de Schrödinger</b>. \n",
    "\n",
    "La onda más simple es aquella que se mueve en una dimensión (x) y no interactúa con nada:\n",
    "\n",
    "$$ \\Psi(x) = sin\\bigg(\\frac{2\\pi}{\\lambda}x\\bigg)  \\tag{2}$$\n",
    "\n",
    "<br>\n",
    "\n",
    "donde $\\lambda$ es la longitud de onda y $\\Psi(x)$ se conoce como la <i>función de onda</i>. La energía de esta función de onda se puede obtener a partir de su segunda\n",
    "derivada con respecto a x, y la ecuación de De Broglie (1): \n",
    "\n",
    "<br>\n",
    "\n",
    "$$\\frac{d^2\\Psi}{dx^2}=-\\bigg(\\frac{2\\pi}{\\lambda}\\bigg)^{2}\\Psi=-\\bigg(\\frac{p^2}{\\hbar^2}\\bigg)^2\\Psi=-\\frac{2m}{\\hbar^2}T\\Psi  \\tag{3}$$\n",
    "\n",
    "<br>\n",
    "\n",
    "$T$ es la energía cinética $(\\frac{1}{2}mv^2)$, y $\\hbar$ es $h/2\\pi$ (pronunciado “h-barra”). La segunda derivada de $sin$ es el propio $sin$ pero cambiado de signo. Por lo tanto la segunda derivada de la función de onda es la misma función de onda multiplicada por una constante.\n",
    "Dado que la onda no interactúa con nada, no hay energía potencial y la energía total es $E = T$, por lo que se deduce que\n",
    "\n",
    "$$-\\bigg(\\frac{\\hbar^2}{2m}\\frac{d^2}{dx^2}\\bigg)\\Psi(x)=E\\Psi(x) \\tag{4}$$\n",
    "\n",
    "<br>\n",
    "\n",
    "$$\\hat{H}\\Psi(x)=E\\Psi(x)  \\tag{5}$$\n",
    "\n",
    "<br>\n",
    "que es la <b>ecuación de Schrödinger</b> para un electrón libre, donde $\\hat{H}$ es llamado operador hamiltoniano o simplemente <b>Hamiltoniano</b>. \n",
    "\n",
    "</div>\n",
    "\n",
    "Para sistemas químicos mas complejos, la resolución de la ecuación de Schrödinger para encontrar la funcion de onda $\\Psi$ y la energía $E$ del sistema es mas complicada y lo ven en detalle en el curso de Química Física III. \n",
    "Por ahora, dejaremos que los programas de química cuántica resuelvan la ecuación de Schrödinger por nosotros. Para ello usaremos Psi4, un paquete de código abierto de química computacional <i>ab initio</i> \n",
    "\n",
    "<div class=\"alert alert-info\" role=\"alert\">\n",
    "Por cierto, el término <i>ab initio</i> significa \"desde el principio\", lo que implica que las únicas entradas en un cálculo <i>ab initio</i> son constantes físicas, sin tener en cuenta datos empíricos o experimentales. Los métodos <i>ab initio</i> intentan resolver la ecuación de Schrödinger conociendo únicamente las posiciones de los núcleos y el número de electrones.\n",
    "</div>\n",
    "\n",
    "\n",
    "### Instalar psi4 \n",
    "Psi4 esta disponible para instalar en Anaconda:\n",
    "\n",
    "```bash\n",
    "conda install -c psi4 psi4\n",
    "```\n",
    "\n",
    "### Nuestro primer cálculo cuántico\n",
    "En este primer apartado veremos como ejecutar nuestro primer cálculo de química cuántica usando jupyter y psi4. Estudiaremos una molécula muy simple: H$_2$.\n",
    "\n",
    "#### Importar psi4\n",
    "El primer paso es importar la libreria con el comando `import`. Esto cargará todas las funciones de psi4 en python y las pondrá a disposición para que las llamemos. "
   ]
  },
  {
   "cell_type": "code",
   "execution_count": 19,
   "metadata": {},
   "outputs": [],
   "source": [
    "import psi4"
   ]
  },
  {
   "attachments": {},
   "cell_type": "markdown",
   "metadata": {},
   "source": [
    "#### Especificar la geometría molecular \n",
    "Especificaremos la geometría de la molécula de H2 con una distancia de enlace H-H de 0,7 Å. Esta imagen ilustra cómo se distribuyen los átomos en el espacio:\n",
    "\n",
    "\n",
    "<img src=\"figures/xyz.svg\" width=\"300\"/>\n",
    "\n",
    "\n",
    "Usaremos el formato xyz, donde el tipo/posicion de cada atomo se espcifica de la siguiente manera:\n",
    "```\n",
    "atomic_symbol      x   y   z\n",
    "```\n",
    "donde `x,y,z` son las coordenadas cartesianas de los atomos (en Å).\n",
    "\n",
    "Creemos una Molécula de psi4 con el comando `psi4.geometry`:"
   ]
  },
  {
   "cell_type": "code",
   "execution_count": 20,
   "metadata": {},
   "outputs": [],
   "source": [
    "mol = psi4.geometry(\n",
    "\"\"\"\n",
    "H  0.0  0.0  0.0\n",
    "H  0.0  0.0  0.7\n",
    "\"\"\")\n",
    "\n",
    "psi4.core.set_output_file('output.h2.txt', False)"
   ]
  },
  {
   "cell_type": "markdown",
   "metadata": {},
   "source": [
    "Nótese que usamos tres comillas dobles \"\"\" para indicar un bloque de texto. \n",
    "\n",
    "La linea de codigo  `psi4.core.set_output_file('output.h2.txt', False)` escribe los resultados en un archivo de salida llamado output.h2.txt\n",
    "\n",
    "#### Calculo de la energía \n",
    "Ahora podemos resolver la ecuación de Schrödinger (aproximadamente):\n"
   ]
  },
  {
   "cell_type": "code",
   "execution_count": 21,
   "metadata": {},
   "outputs": [
    {
     "data": {
      "text/plain": [
       "-1.1269257993199682"
      ]
     },
     "execution_count": 21,
     "metadata": {},
     "output_type": "execute_result"
    }
   ],
   "source": [
    "psi4.energy('scf/cc-pvdz')"
   ]
  },
  {
   "cell_type": "markdown",
   "metadata": {},
   "source": [
    "La energía del H2 debería ser igual a `-1.1269257993199844` (unidades atómicas)\n",
    "\n",
    "#### Optimización de geometría\n",
    "\n",
    "El calculo anterior fue un calculo puntual o de <i>single-point</i> de la energía del $H_2$, realizado sobre la misma geometría provista como entrada. Pero podemos ir un paso más allá y encontrar la geometría molecular de equilibrio:"
   ]
  },
  {
   "cell_type": "code",
   "execution_count": 22,
   "metadata": {},
   "outputs": [
    {
     "name": "stdout",
     "output_type": "stream",
     "text": [
      "Optimizer: Optimization complete!\n"
     ]
    },
    {
     "data": {
      "text/plain": [
       "-1.128747004706232"
      ]
     },
     "execution_count": 22,
     "metadata": {},
     "output_type": "execute_result"
    }
   ],
   "source": [
    "psi4.optimize('scf/cc-pvdz', molecule=mol)"
   ]
  },
  {
   "cell_type": "markdown",
   "metadata": {},
   "source": [
    "Podemos ver la geometría optimizada devuelta por psi4, al final del archivo `output.h2.txt`:"
   ]
  },
  {
   "cell_type": "code",
   "execution_count": 23,
   "metadata": {},
   "outputs": [
    {
     "name": "stdout",
     "output_type": "stream",
     "text": [
      "\n",
      "    Final optimized geometry and variables:\n",
      "    Molecular point group: d2h\n",
      "    Full point group: D_inf_h\n",
      "\n",
      "    Geometry (in Angstrom), charge = 0, multiplicity = 1:\n",
      "\n",
      "    H            0.000000000000     0.000000000000    -0.374065689395\n",
      "    H            0.000000000000     0.000000000000     0.374065689395\n",
      "\n",
      "\n"
     ]
    }
   ],
   "source": [
    "with open('output.h2.txt','r') as f:\n",
    "    lines = f.readlines()[-10:]\n",
    "    print(''.join(lines))"
   ]
  },
  {
   "cell_type": "markdown",
   "metadata": {},
   "source": [
    "<div class=\"alert alert-warning\" role=\"alert\">\n",
    "\n",
    "<b>Actividad 1</b>\n",
    "<br>\n",
    "\n",
    "Cambie la molécula H<sub>2</sub> por una de hidruro de litio. Calcule la energía del LiH a una distancia de enlace de 1 Å. Luego optimice la geometría y compárela con la de H<sub>2</sub>.\n",
    "\n",
    "</div>\n"
   ]
  },
  {
   "cell_type": "code",
   "execution_count": null,
   "metadata": {},
   "outputs": [],
   "source": [
    "#ESCRIBA SU CODIGO/RESPUESTAS AQUI"
   ]
  },
  {
   "cell_type": "markdown",
   "metadata": {},
   "source": [
    "### Formatos de entrada \n",
    "\n",
    "En este segundo apartado veremos en mas detalle como especificar la geometría molecular. \n",
    "Como siempre, empezamos importando psi4. Para no quedarnos sin memoria, le diremos a psi4 que puede usar hasta 1 GB de memoria con el comando `psi4.set_memory('1 GB')`.\n",
    "\n",
    "Para guardar los resultados de nuestros cálculos, también le indicaremos a psi4 que imprima toda la salida en el archivo `output.dat` con el comando `psi4.core.set_output_file('output.dat')`"
   ]
  },
  {
   "cell_type": "code",
   "execution_count": 1,
   "metadata": {},
   "outputs": [],
   "source": [
    "import psi4\n",
    "\n",
    "psi4.set_memory('1 GB')\n",
    "psi4.core.set_output_file('output.dat')"
   ]
  },
  {
   "cell_type": "markdown",
   "metadata": {},
   "source": [
    "#### Especificando la geometría. Coordenadas cartesianas\n",
    "\n",
    "En este ejemplo optimizaremos la geometría del monóxido de carbono (CO). Una forma en que podemos especificar su geometría de entrada es mediante coordenadas cartesianas. \n",
    "Para este segundo cálculo vamos a ser más específicos y decirle a psi4 que vamos a estudiar una molécula neutra (carga = 0) y multiplicidad de espín igual a un singulete (multiplicidad = 2S + 1 = 1) ya que todos los electrones están apareados. Esta información se pasa en la primera línea, con el formato\n",
    "```\n",
    "<carga>  <multiplicidad>\n",
    "<símbolo1> <x1> <y1> <z1>\n",
    "...\n",
    "```\n",
    "En este caso pasamos los números `0 1` \n",
    "\n",
    "<div class=\"alert alert-info\" role=\"alert\">\n",
    "La <b>multiplicidad</b> es la cuantificación de la cantidad de espines electronicos desapareados.  La multiplicidad se calcula con la ecuación: 2S + 1 (donde $S = \\frac{1}{2} (n°~de~electrones~desapareados)$).<br> \n",
    "    \n",
    "    \n",
    "Cuando todos los electrones están apareados S = 0, y la multiplicidad = 2(0) + 1 = 1. Este caso se llama singulete. Si una molécula tiene 1 electrón desapareado S = $+\\frac{1}{2}$ y 2S + 1 = 2, lo que se llama doblete. Dos electrones desapareados darían como resultado un triplete, etc.\n",
    "</div>    "
   ]
  },
  {
   "cell_type": "code",
   "execution_count": 18,
   "metadata": {},
   "outputs": [],
   "source": [
    "co_cart = psi4.geometry(\"\"\"\n",
    "0 1\n",
    "C 0.000000 0.000000 0.000000\n",
    "O 0.000000 0.000000 1.128323\n",
    "\"\"\")"
   ]
  },
  {
   "cell_type": "markdown",
   "metadata": {},
   "source": [
    "Verifiquemos la geometría con la función `to_string`"
   ]
  },
  {
   "cell_type": "code",
   "execution_count": 20,
   "metadata": {},
   "outputs": [
    {
     "name": "stdout",
     "output_type": "stream",
     "text": [
      "2\n",
      "0 1 CO\n",
      "C                     0.000000000000     0.000000000000    -0.644668158255\n",
      "O                     0.000000000000     0.000000000000     0.483654841745\n",
      "\n"
     ]
    }
   ],
   "source": [
    "print(co_cart.to_string(dtype='xyz'))"
   ]
  },
  {
   "cell_type": "markdown",
   "metadata": {},
   "source": [
    "Nóte como psi4 ha centrado las coordenadas en el centro de masas de la molécula de CO.  \n",
    "\n",
    "\n",
    "#### Coordenadas en matriz Z\n",
    "\n",
    "Otra forma de proporcionar la geometría de entrada es con una matriz Z. \n",
    "\n",
    "\n",
    "<div class=\"alert alert-info\" role=\"alert\">\n",
    "Una <b>matriz Z</b> representa el conjunto de coordenadas internas que definen la posición de cada átomo dentro de una molécula. Se denominan coordenadas internas ya que la posición de cáda punto queda definida por su posición relativa respecto a un número mínimo de puntos restantes presentes en una molécula. Su nombre proviene del hecho de que automáticamente se asigna como el eje cartesiano Z al primer vector de distancia encontrado respecto del átomo central.\n",
    "</div>\n",
    "\n",
    "\n",
    "\n",
    "Para una molécula diatómica A-B la matriz Z es simplemente \n",
    "\n",
    "```\n",
    "A\n",
    "B 1 <distancia A-B>\n",
    "```\n",
    "Por ejemplo, para CO especificamos la matriz Z de la siguiente manera (note como el resultado es equivalente a la especificación en coordenadas cartesianas). "
   ]
  },
  {
   "cell_type": "code",
   "execution_count": 21,
   "metadata": {},
   "outputs": [
    {
     "name": "stdout",
     "output_type": "stream",
     "text": [
      "2\n",
      "0 1 CO\n",
      "C                     0.000000000000     0.000000000000    -0.644668158255\n",
      "O                     0.000000000000     0.000000000000     0.483654841745\n",
      "\n"
     ]
    }
   ],
   "source": [
    "co_zmat = psi4.geometry(\"\"\"\n",
    "0 1\n",
    "C\n",
    "O 1 1.128323\n",
    "\"\"\")\n",
    "\n",
    "print(co_zmat.to_string(dtype='xyz'))"
   ]
  },
  {
   "cell_type": "markdown",
   "metadata": {},
   "source": [
    "En esta matriz Z:\n",
    "- `C` indica que el primer átomo es un carbono. \n",
    "- `O 1 1.128323` indica que el segundo átomo es un oxígeno que está separado del primer átomo por una distancia de 1.128323 Å.\n",
    "\n",
    "Ahora podemos proceder a optimizar la geometría del CO"
   ]
  },
  {
   "cell_type": "code",
   "execution_count": 22,
   "metadata": {},
   "outputs": [
    {
     "name": "stdout",
     "output_type": "stream",
     "text": [
      "Optimizer: Optimization complete!\n"
     ]
    },
    {
     "data": {
      "text/plain": [
       "-112.74990561136809"
      ]
     },
     "execution_count": 22,
     "metadata": {},
     "output_type": "execute_result"
    }
   ],
   "source": [
    "psi4.optimize('scf/cc-pvdz', molecule=co_zmat)"
   ]
  },
  {
   "cell_type": "code",
   "execution_count": 23,
   "metadata": {},
   "outputs": [
    {
     "name": "stdout",
     "output_type": "stream",
     "text": [
      "2\n",
      "0 1 CO\n",
      "C                     0.000000000000     0.000000000000    -0.634257868154\n",
      "O                     0.000000000000     0.000000000000     0.475844641805\n",
      "\n"
     ]
    }
   ],
   "source": [
    "print(co_zmat.to_string(dtype='xyz'))"
   ]
  },
  {
   "attachments": {
    "water_zmat.png": {
     "image/png": "[encoded data removed]"
    }
   },
   "cell_type": "markdown",
   "metadata": {},
   "source": [
    "#### Matriz Z para moléculas triatómicas \n",
    "\n",
    "Pasemos ahora a una molécula triatómica, el agua. En el caso general de una matriz Z para la molécula A-B-C, hay una línea adicional para el tercer átomo (C). Para dar una geometría tenemos que especificar: \n",
    "```\n",
    "A\n",
    "B 1 <distancia A-B>\n",
    "C <conectada a idx(B)> <distancia C-B> <forma angulo con idx(A)> <angulo C-B-A (en grados)>\n",
    "```\n",
    "donde idx(A) e idx(B) en este caso son los índices del átomo A (atomo 1) y B (atomo 2), respectivamente. \n",
    "\n",
    "Para la molécula de agua, podemos enumerar los átomos de la siguiente manera: \n",
    "\n",
    "![water_zmat.png](attachment:water_zmat.png)\n",
    "\n",
    "<center><b>Figura 3</b></center>\n",
    "<br>\n",
    "\n",
    "\n",
    "Si consideramos una distancia de 1 Å y un angulo de 104.5 grados, la matriz Z está dada por"
   ]
  },
  {
   "cell_type": "code",
   "execution_count": 28,
   "metadata": {},
   "outputs": [
    {
     "name": "stdout",
     "output_type": "stream",
     "text": [
      "3\n",
      "0 1 H2O\n",
      "O                     0.000000000000     0.000000000000    -0.068516219320\n",
      "H                     0.000000000000    -0.790689573744     0.543701060715\n",
      "H                     0.000000000000     0.790689573744     0.543701060715\n",
      "\n"
     ]
    }
   ],
   "source": [
    "h2o_zmat = psi4.geometry(\"\"\"\n",
    "0 1\n",
    "O\n",
    "H 1 1.0\n",
    "H 1 1.0 2 104.5\n",
    "\"\"\")\n",
    "\n",
    "print(h2o_zmat.to_string(dtype='xyz'))"
   ]
  },
  {
   "cell_type": "markdown",
   "metadata": {},
   "source": [
    "Ahora optimicemos la geometría: "
   ]
  },
  {
   "cell_type": "code",
   "execution_count": 25,
   "metadata": {},
   "outputs": [
    {
     "name": "stdout",
     "output_type": "stream",
     "text": [
      "Optimizer: Optimization complete!\n"
     ]
    }
   ],
   "source": [
    "scf_e = psi4.optimize('scf/cc-pvdz', molecule=h2o_zmat)"
   ]
  },
  {
   "cell_type": "code",
   "execution_count": 26,
   "metadata": {},
   "outputs": [
    {
     "name": "stdout",
     "output_type": "stream",
     "text": [
      "Energía del agua: -76.02703275582333\n",
      "3\n",
      "0 1 H2O\n",
      "O                     0.000000000000     0.000000000000    -0.064742421815\n",
      "H                     0.000000000000    -0.748716993811     0.513754608228\n",
      "H                     0.000000000000     0.748716993811     0.513754608228\n",
      "\n"
     ]
    }
   ],
   "source": [
    "print(f'Energía del agua: {scf_e}')\n",
    "print(h2o_zmat.to_string(dtype='xyz'))"
   ]
  },
  {
   "cell_type": "markdown",
   "metadata": {},
   "source": [
    "<div class=\"alert alert-warning\" role=\"alert\">\n",
    "\n",
    "<b> Actividad 2</b>\n",
    "<br>\n",
    "<ul>\n",
    "\n",
    "<li>Construya la matriz Z para una molécula de agua <b>lineal</b> ($\\theta=180°$) y optimice su geometría.</li> \n",
    "<li>Guarde la geometría de salida en un archivo agua.xyz y abrala con un visualizador. ¿La geometría del agua se ha modificado de la manera que usted espera? ¿Que le parece que ha ocurrido en este caso?</li> \n",
    "<li> ¿Recuerda como distinguia un mínimo de una asíntota o un máximo sobre la Superficie de Energía Potencial molecular? ¿Como haría para verificar a que punto de la SEP corresponde la molécula de agua lineal? </li>\n",
    "<li>Calcule la energía de la molécula de agua en ambas geometrías, lineal y angular. Expresela en kcal/mol (1 hartree (u.a.) = 627.51 kcal/mol) ¿A que corresponde esa diferencia de energía?</li>\n",
    "\n",
    "\n",
    "</ul>\n",
    "\n",
    "\n",
    "</div>"
   ]
  },
  {
   "cell_type": "code",
   "execution_count": null,
   "metadata": {},
   "outputs": [],
   "source": [
    "# ESCRIBA SUS RESPUESTAS AQUI"
   ]
  },
  {
   "cell_type": "markdown",
   "metadata": {},
   "source": [
    "### Puntos estacionarios sobre la SEP. Análisis de Frecuencias Vibracionales \n",
    "\n",
    "Durante la optimización de una molécula con la función `psi.optimize()`, psi4 realiza una serie de cálculos de gradiente. El gradiente apunta en la dirección de mayor disminución de la energía, luego el optimizador modifica la geometría para seguir el gradiente. Después de algunos ciclos, la geometría debería converger con un mensaje como ¡Optimización completa!\n",
    "Esta técnica de optimizacion se denomina método del **gradiente descendente**, tambien conocido como **steepest descendent** en ingles.     \n",
    "\n",
    "\n",
    "<div class=\"alert alert-info\" role=\"alert\">\n",
    "<b>Método de optimización del Gradiente Descendente</b><br>\n",
    "Consideremos un ejemplo simple con una sola coordenada (por ejemplo, una distancia), R, y donde la energía viene dada por\n",
    "\n",
    "$$ E = \\frac{1}{2}k(R-R_e)^2 \\tag{6}$$ \n",
    "\n",
    "La correspodiente SEP, conocida como SEP cuadrática se muestra en la siguiente figura: \n",
    "<br>\n",
    "\n",
    "\n",
    "<img src=\"figures/SEP_cuad.png\" width=\"300\"/>\n",
    "<br>\n",
    "\n",
    "<center><b>Figura 4</b></center>\n",
    "<br>\n",
    "\n",
    "Aquí $R_e$ es el valor de R en el que la energía es más baja (esto se conoce como la geometría de equilibrio) y es lo que nos gustaría encontrar.  \n",
    "\n",
    "Empezamos considerando un valor cualquiera en $R = R_g$. Ya sabemos cómo comprobar si se trata de un mínimo de energía: necesitamos evaluar el gradiente de la energía (eq 6), que es\n",
    "\n",
    "$$\\bigg(\\frac{\\partial E}{\\partial R}\\bigg)_{R_{g}} = k\\big(R_{g}-R_{e}\\big) \\tag{7}$$\n",
    "\n",
    "\n",
    "Está claro que el gradiente no es cero para $R_e \\neq R_g$. Sin embargo, al reorganizar la eq 7, el gradiente también nos dice cómo cambiar R para obtener un mínimo de energía.\n",
    "\n",
    "$$ R_{e} = R_{g} - \\frac{1}{k}\\bigg(\\frac{\\partial E}{\\partial R}\\bigg)_{R_{g}} = R_{g} + \\frac{1}{k}F \\tag{8}$$\n",
    "\n",
    "donde $F$ es la <b>fuerza</b>, que es el negativo del gradiente. Si sabemos $k$ podemos encontrar $R_e$ en un solo paso a partir de $R_g$, como se muestra en la figura 4. Si no sabemos k, entonces es más seguro dar muchos pasos pequeños, es decir, escalar el gradiente por alguna pequeña constante (c) y repetir hasta que el gradiente caiga por debajo de algún umbral. \n",
    "\n",
    "$$ R_{e} = R_{g} - c\\bigg(\\frac{\\partial E}{\\partial R}\\bigg)_{R_{g}} \\tag{9}$$\n",
    "<br>\n",
    "\n",
    "\n",
    "<img src=\"figures/SEP_steps.png\" width=\"300\"/>\n",
    "<br>\n",
    "\n",
    "<center><b>Figura 5</b></center>\n",
    "<br>\n",
    "\n",
    "\n",
    "</div>\n",
    "\n",
    "Nótese que el método de gradiente descendente permite encontrar los puntos estacionarios sobre la SEP. Sin embargo, como en ningun momento se calculan la segundas derivadas de la energía, lo que se conoce como <b>matriz Hessiana</b>, no podemos estar seguros si lo que encontramos es un mínimo de energía o si puede tratarse de un estado de transición (o punto de ensilladura).  \n",
    "\n",
    "Como el costo computacional (es decir, el tiempo de computadora necesario para calcular) la matriz Hessiana es mucho, mucho mayor que para el gradiente y la energía, en la práctica esta matriz solo se calcula una vez hallados los puntos estacionarios. \n",
    "\n",
    "En psi4, la matriz Hessiana (matriz de segundas derivadas) de la energía electrónica con respecto a los desplazamientos nucleares se calcula con la función `psi4.frequency()`. \n",
    "\n",
    "Por ejemplo para la molécula de agua que optimizamos mas arriba con \n",
    "\n",
    "`scf_e = psi4.optimize('scf/cc-pvdz', molecule=h2o_zmat)`, la matriz Hessiana se calcula como:   \n"
   ]
  },
  {
   "cell_type": "code",
   "execution_count": 29,
   "metadata": {},
   "outputs": [],
   "source": [
    "scf_e, scf_wfn = psi4.frequency('scf/cc-pvdz', molecule=h2o_zmat, return_wfn=True)"
   ]
  },
  {
   "cell_type": "markdown",
   "metadata": {},
   "source": [
    "Con el argumento `return_wfn=True` pedimos a la función `psi4.frecuency()` que devuelva la funcion de onda scf_wfn, ademas de la energía scf_e. \n",
    "\n",
    "Luego, a partir de la función de onda scf_wfn podemos extraer las frencuencas vibracionales (en $cm^{-1}$) con:"
   ]
  },
  {
   "cell_type": "code",
   "execution_count": 30,
   "metadata": {},
   "outputs": [
    {
     "name": "stdout",
     "output_type": "stream",
     "text": [
      "[ 869.0464572   870.08345114  872.028678   1866.42421389 3403.70992148\n",
      " 3501.51109227]\n"
     ]
    }
   ],
   "source": [
    "freqs = scf_wfn.frequencies().to_array()\n",
    "print(freqs)"
   ]
  },
  {
   "attachments": {
    "Internal_coordinates_4.JPG": {
     "image/jpeg": "[encoded data removed]"
    },
    "dihedros.png": {
     "image/png": "[encoded data removed]"
    }
   },
   "cell_type": "markdown",
   "metadata": {},
   "source": [
    "La molécula de agua presenta 6 modos vibracionales, todos ellos positivos, lo que indica que la geometría analizada es un mínimo de energía.  \n",
    "\n",
    "¿Pero como se relacionan la matriz Hessiana y las frecuencias vibracionales?\n",
    "\n",
    " \n",
    "<div class=\"alert alert-info\" role=\"alert\">\n",
    "\n",
    "<b>Frecuencias Imaginarias</b>\n",
    "\n",
    "<br>\n",
    "\n",
    "En el caso de una SEP cuadrática podiamos aproximar la energía en función de alguna coordenada, con la ecuación 6. \n",
    "\n",
    "De manera mas general, para aproximar cualquier función en $x$, $f(x)$, para valores de $x$ no muy alejados de $x_0$, podemos utilizar una expansión de Taylor:\n",
    "\n",
    "<br>\n",
    "\n",
    "\n",
    "$f(x) = f(x_0) + \\bigg(\\frac{\\partial f(x)}{\\partial x}\\bigg)_{x0} (x - x_{0}) + \\frac {1}{2} \\bigg(\\frac{\\partial f^2(x)}{\\partial x^2}\\bigg)_{x0} (x - x_{0})^2 + \\frac {1}{6} \\bigg(\\frac{\\partial f^3(x)}{\\partial x^3}\\bigg)_{x0}(x-x_{0})^3 +... \\tag{10}$\n",
    "\n",
    "\n",
    "<br>\n",
    "\n",
    "\n",
    "en nuestro caso $f(x)$ puede ser la energía como función de alguna coordenada atómica $E(x)$ y eligimos $x_0$ como el valor de la coordenada en el mínimo de energía. Esta elección tiene la ventaja de que la primera derivada de $E(x)$ es cero, por lo que el segundo término desaparece del lado derecho de la eq 10. Además, $E(x_o)$ es simplemente\n",
    "el valor de la energía en $x_0$, que podemos suponer que es 0 por el momoento. Finalmente, supondremos que $(x-x_o)^n$ es despreciable para n > 2 (lo que se conoce como la aproximación harmómica), con lo cual expansion queda reducida a: \n",
    "\n",
    "<br>\n",
    "\n",
    "$$E(x) = \\frac {1}{2} \\bigg(\\frac{\\partial E^2(x)}{\\partial x^2}\\bigg)_{x0} (x - x_{0})^2  \\tag{11} $$\n",
    "\n",
    "<br>\n",
    "\n",
    "Si comparamos con la eq. 6, vemos que la constante de fuerza $k$ es en realidad la matriz Hessiana, o matriz de segundas derivadas, en la aproximación armónica. Es decir que al calcular la matriz Hessiana estamos caluando la costantes de fuerza de los correspondienes modos vibracionales.  \n",
    "La frecuencia vibracional $\\nu_i$ de un modelo de oscilador armonico de constante de fuerza $k_i$ está dada por: \n",
    "\n",
    "<br>\n",
    "\n",
    "$$\\nu_i = \\frac{1}{2\\pi}\\sqrt{\\frac{k_i}{\\mu}} \\tag{12}$$\n",
    "\n",
    "<br>\n",
    "\n",
    "donde $\\mu$ es la masa reducida del oscilador. Observe que, debido a la raíz cuadrada, un modo de vibración con una constante de fuerza negativa (y por lo tanto $\\frac{\\partial E^2(x)}{\\partial x^2}$ negativa) tendrá una <b>frecuencia imaginaria</b>, lo que indica que el movimiento descrito por la correspondiente coordenada normal reduce la energía, en otras palabras la estructura actual no es estable. \n",
    "\n",
    "</div>\n",
    "\n",
    "#### Inversion del amoníaco \n",
    "\n",
    "Escribamos la matriz Z de la molécula de amoníaco. \n",
    "A veces es conveniente utilizar átomos ficticios (dummy) al construir una entrada de matriz Z. Un dummy puede ser útil para definir un átomo \"ancla\" con respecto al cual puede se especificar la geometría molecular. \n",
    "\n",
    "Los átomos ficticios también son útiles para eliminar ambigüedad en la matriz Z. A excepción de las moléculas triatómicas, el formato de matriz Z no acepta ángulos de enlace de 180 grados. Este es, por ejemplo, el caso del acetileno. Si tratamos de especificar la geometría del acetileno sin átomos ficticios, psi4 da un error ya que no puede convertir la matriz Z a la estructura cartesiana.\n",
    "\n",
    "En el caso del amoníaco, resulta conveniente definir un dummy ubicado sobre el eje de simetría de la molécula, de esta manera nos aseguramos que la molécula conserva la simetría durante la optimización geométrica. \n",
    "\n",
    "![Internal_coordinates_4.JPG](attachment:Internal_coordinates_4.JPG)\n",
    "\n",
    "Por otra parte, las moléculas con más de tres átomos se extienden más allá de un plano 2D, por lo que necesitamos especificar también ángulos diedros.\n",
    "\n",
    "![dihedros.png](attachment:dihedros.png)\n",
    "\n",
    "El ángulo diedro formado por cuatro átomos i-j-k-n se define como el ángulo entre dos planos, uno conteniendo los átomos i,j,k y el otro los átomos j,k,n.\n",
    "\n",
    "Ahora si escribamos la matriz Z de la molécula de amoníaco, teniendo en cuenta estas consideraciones y optimicemos su geometría: "
   ]
  },
  {
   "cell_type": "code",
   "execution_count": 5,
   "metadata": {},
   "outputs": [
    {
     "name": "stdout",
     "output_type": "stream",
     "text": [
      "4\n",
      "0 1 H3N\n",
      "N                     0.000000000000    -0.088787078307     0.000000000000\n",
      "H                    -0.433012701892     0.411212921693    -0.750000000000\n",
      "H                    -0.433012701892     0.411212921693     0.750000000000\n",
      "H                     0.866025403784     0.411212921693     0.000000000000\n",
      "\n"
     ]
    }
   ],
   "source": [
    "\n",
    "psi4.set_output_file(\"output.nh3.dat\")\n",
    "\n",
    "geom = psi4.geometry(\"\"\"\n",
    "0 1\n",
    "X\n",
    "N 1 1.0\n",
    "H 2 R 1 A\n",
    "H 2 R 1 A 3 D\n",
    "H 2 R 1 A 3 -D\n",
    "\n",
    "R = 1.000\n",
    "A = 120.0\n",
    "D = 120.0\n",
    "\"\"\")\n",
    "\n",
    "print(geom.to_string(dtype='xyz'))"
   ]
  },
  {
   "cell_type": "markdown",
   "metadata": {},
   "source": [
    "donde, por ejemplo, en la sexta línea especificamos que el átomo $H_5$ tiene una distancia de 1.0 $ \\unicode{x212B} $ del átomo $N_2$, forma un ángulo de 120 grados con $X_1$, y el angulo diedro $H_5-B_1-X_1-H_4$ es de -120 grados.\n",
    "\n",
    "Note que las longitudes de enlace (R), ángulos (A) y diedros (D) sin indican con símbolos y se asignan los correspondientes valores después de la matriz Z, dejando una linea en blanco entre medio. Esta notación es conveniente si se quiere escanear la geometría de la molécula (scan), por ejemplo rotar un ángulo diedro. \n",
    "\n",
    "Luego optimicemos la geometría del amoníaco y calculemos las frecuencias vibracionales para ver si el punto estacionario encontrado corresponde a un mínimo. \n",
    "\n",
    "\n"
   ]
  },
  {
   "cell_type": "code",
   "execution_count": 6,
   "metadata": {},
   "outputs": [
    {
     "name": "stdout",
     "output_type": "stream",
     "text": [
      "Optimizer: Optimization complete!\n"
     ]
    }
   ],
   "source": [
    "psi4.optimize('scf/def2-SVP',molecule=geom)\n",
    "e, wfn = psi4.frequency('scf/def2-SVP',molecule=geom,return_wfn=True)"
   ]
  },
  {
   "cell_type": "markdown",
   "metadata": {},
   "source": [
    "From the wave function object (wfn) we can extract the vibrational frequencies (in cm$^{-1}$)"
   ]
  },
  {
   "cell_type": "code",
   "execution_count": 8,
   "metadata": {},
   "outputs": [
    {
     "name": "stdout",
     "output_type": "stream",
     "text": [
      "[1135.57802355 1782.13682385 1782.13682389 3696.60923638 3824.70822815\n",
      " 3824.70822818]\n",
      "\n",
      "\n",
      "  ==> Harmonic Vibrational Analysis <==\n",
      "\n",
      "  non-mass-weighted Hessian:       Symmetric? True   Hermitian? True   Lin Dep Dim?  0 (0)\n",
      "  projection of translations (True) and rotations (True) removed 6 degrees of freedom (6)\n",
      "  total projector:                 Symmetric? True   Hermitian? True   Lin Dep Dim?  6 (6)\n",
      "  mass-weighted Hessian:           Symmetric? True   Hermitian? True   Lin Dep Dim?  0 (0)\n",
      "  pre-proj  low-frequency mode:    0.0000i [cm^-1]\n",
      "  pre-proj  low-frequency mode:    0.0000i [cm^-1]\n",
      "  pre-proj  low-frequency mode:    0.0000i [cm^-1]\n",
      "  pre-proj  low-frequency mode:    0.0020  [cm^-1]\n",
      "  pre-proj  low-frequency mode:    0.0034  [cm^-1]\n",
      "  pre-proj  low-frequency mode:    0.0042  [cm^-1]\n",
      "  pre-proj  all modes:['25.9433i' '20.8021i' '20.8021i' '0.0020' '0.0034' '0.0042' '1135.5780'\n",
      " '1782.1368' '1782.1368' '3696.6092' '3824.7082' '3824.7082']\n",
      "  projected mass-weighted Hessian: Symmetric? True   Hermitian? True   Lin Dep Dim?  6 (6)\n",
      "  post-proj low-frequency mode:    0.0001i [cm^-1] (TR)\n",
      "  post-proj low-frequency mode:    0.0001i [cm^-1] (TR)\n",
      "  post-proj low-frequency mode:    0.0000i [cm^-1] (TR)\n",
      "  post-proj low-frequency mode:    0.0000  [cm^-1] (TR)\n",
      "  post-proj low-frequency mode:    0.0000  [cm^-1] (TR)\n",
      "  post-proj low-frequency mode:    0.0000  [cm^-1] (TR)\n",
      "  post-proj  all modes:['0.0001i' '0.0001i' '0.0000i' '0.0000' '0.0000' '0.0000' '1135.5780'\n",
      " '1782.1368' '1782.1368' '3696.6092' '3824.7082' '3824.7082']\n",
      "\n",
      "  Vibration                       7                   8                   9           \n",
      "  Freq [cm^-1]                1135.5780           1782.1368           1782.1368       \n",
      "  Irrep                           Ap                                                  \n",
      "  Reduced mass [u]              1.1788              1.0653              1.0653        \n",
      "  Force const [mDyne/A]         0.8956              1.9935              1.9935        \n",
      "  Turning point v=0 [a0]        0.2999              0.2518              0.2518        \n",
      "  RMS dev v=0 [a0 u^1/2]        0.2302              0.1838              0.1838        \n",
      "  IR activ [km/mol]            181.3162            14.5894             14.5894        \n",
      "  Char temp [K]               1633.8439           2564.0981           2564.0981       \n",
      "  ----------------------------------------------------------------------------------\n",
      "      1   N               -0.00 -0.11  0.00    0.03 -0.00 -0.06   -0.06  0.00 -0.03   \n",
      "      2   H                0.11  0.53  0.19   -0.59 -0.14  0.25    0.31 -0.21 -0.32   \n",
      "      3   H                0.11  0.53 -0.19    0.12  0.25 -0.10    0.65 -0.02  0.39   \n",
      "      4   H               -0.22  0.53 -0.00    0.06 -0.11  0.68   -0.13  0.22  0.34   \n",
      "\n",
      "  Vibration                       10                  11                  12          \n",
      "  Freq [cm^-1]                3696.6092           3824.7082           3824.7082       \n",
      "  Irrep                           Ap                                                  \n",
      "  Reduced mass [u]              1.0282              1.0909              1.0909        \n",
      "  Force const [mDyne/A]         8.2779              9.4019              9.4019        \n",
      "  Turning point v=0 [a0]        0.1780              0.1699              0.1699        \n",
      "  RMS dev v=0 [a0 u^1/2]        0.1276              0.1255              0.1255        \n",
      "  IR activ [km/mol]             0.7992              2.7172              2.7172        \n",
      "  Char temp [K]               5318.5977           5502.9036           5502.9036       \n",
      "  ----------------------------------------------------------------------------------\n",
      "      1   N               -0.00 -0.04 -0.00    0.04  0.00 -0.07   -0.07  0.00 -0.04   \n",
      "      2   H               -0.27  0.18 -0.47    0.19 -0.14  0.30    0.33 -0.26  0.58   \n",
      "      3   H               -0.27  0.18  0.47   -0.38  0.30  0.66   -0.03  0.01  0.01   \n",
      "      4   H                0.55  0.18 -0.00   -0.40 -0.16 -0.01    0.64  0.25 -0.01   \n",
      "\n",
      "  ==> Thermochemistry Components <==\n",
      "\n",
      "  Entropy, S\n",
      "    Electronic S            0.000 [cal/(mol K)]        0.000 [J/(mol K)]       0.00000000 [mEh/K] (multiplicity = 1)\n",
      "    Translational S        34.441 [cal/(mol K)]      144.100 [J/(mol K)]       0.05488488 [mEh/K] (mol. weight = 17.0265 [u], P = 101325.00 [Pa])\n",
      "    Rotational S           11.390 [cal/(mol K)]       47.656 [J/(mol K)]       0.01815140 [mEh/K] (symmetry no. = 3)\n",
      "    Vibrational S           0.061 [cal/(mol K)]        0.255 [J/(mol K)]       0.00009709 [mEh/K]\n",
      "  Total S                  45.892 [cal/(mol K)]      192.012 [J/(mol K)]       0.07313337 [mEh/K]\n",
      "  Correction S              0.000 [cal/(mol K)]        0.000 [J/(mol K)]       0.00000000 [mEh/K]\n",
      "\n",
      "  Constant volume heat capacity, Cv\n",
      "    Electronic Cv           0.000 [cal/(mol K)]        0.000 [J/(mol K)]       0.00000000 [mEh/K]\n",
      "    Translational Cv        2.981 [cal/(mol K)]       12.472 [J/(mol K)]       0.00475022 [mEh/K]\n",
      "    Rotational Cv           2.981 [cal/(mol K)]       12.472 [J/(mol K)]       0.00475022 [mEh/K]\n",
      "    Vibrational Cv          0.305 [cal/(mol K)]        1.276 [J/(mol K)]       0.00048616 [mEh/K]\n",
      "  Total Cv                  6.267 [cal/(mol K)]       26.220 [J/(mol K)]       0.00998659 [mEh/K]\n",
      "  Correction Cv             0.000 [cal/(mol K)]        0.000 [J/(mol K)]       0.00000000 [mEh/K]\n",
      "\n",
      "  Constant pressure heat capacity, Cp\n",
      "    Electronic Cp           0.000 [cal/(mol K)]        0.000 [J/(mol K)]       0.00000000 [mEh/K]\n",
      "    Translational Cp        4.968 [cal/(mol K)]       20.786 [J/(mol K)]       0.00791703 [mEh/K]\n",
      "    Rotational Cp           2.981 [cal/(mol K)]       12.472 [J/(mol K)]       0.00475022 [mEh/K]\n",
      "    Vibrational Cp          0.305 [cal/(mol K)]        1.276 [J/(mol K)]       0.00048616 [mEh/K]\n",
      "  Total Cp                  8.254 [cal/(mol K)]       34.534 [J/(mol K)]       0.01315340 [mEh/K]\n",
      "  Correction Cp             0.000 [cal/(mol K)]        0.000 [J/(mol K)]       0.00000000 [mEh/K]\n",
      "\n",
      "  ==> Thermochemistry Energy Analysis <==\n",
      "\n",
      "  Raw electronic energy, E0\n",
      "  Total E0, Electronic energy at well bottom at 0 [K]                  -56.14886372 [Eh]\n",
      "\n",
      "  Zero-point energy, ZPE_vib = Sum_i nu_i / 2\n",
      "    Electronic ZPE          0.000 [kcal/mol]        0.000 [kJ/mol]       0.00000000 [Eh]\n",
      "    Translational ZPE       0.000 [kcal/mol]        0.000 [kJ/mol]       0.00000000 [Eh]\n",
      "    Rotational ZPE          0.000 [kcal/mol]        0.000 [kJ/mol]       0.00000000 [Eh]\n",
      "    Vibrational ZPE        22.939 [kcal/mol]       95.976 [kJ/mol]       0.03655520 [Eh]        8022.939 [cm^-1]\n",
      "  Correction ZPE           22.939 [kcal/mol]       95.976 [kJ/mol]       0.03655520 [Eh]        8022.939 [cm^-1]\n",
      "  Total ZPE, Electronic energy at 0 [K]                                -56.11230852 [Eh]\n",
      "\n",
      "  Thermal Energy, E (includes ZPE)\n",
      "    Electronic E            0.000 [kcal/mol]        0.000 [kJ/mol]       0.00000000 [Eh]\n",
      "    Translational E         0.889 [kcal/mol]        3.718 [kJ/mol]       0.00141628 [Eh]\n",
      "    Rotational E            0.889 [kcal/mol]        3.718 [kJ/mol]       0.00141628 [Eh]\n",
      "    Vibrational E          22.954 [kcal/mol]       96.040 [kJ/mol]       0.03657985 [Eh]\n",
      "  Correction E             24.732 [kcal/mol]      103.477 [kJ/mol]       0.03941241 [Eh]\n",
      "  Total E, Electronic energy at  298.15 [K]                            -56.10945131 [Eh]\n",
      "\n",
      "  Enthalpy, H_trans = E_trans + k_B * T\n",
      "    Electronic H            0.000 [kcal/mol]        0.000 [kJ/mol]       0.00000000 [Eh]\n",
      "    Translational H         1.481 [kcal/mol]        6.197 [kJ/mol]       0.00236046 [Eh]\n",
      "    Rotational H            0.889 [kcal/mol]        3.718 [kJ/mol]       0.00141628 [Eh]\n",
      "    Vibrational H          22.954 [kcal/mol]       96.040 [kJ/mol]       0.03657985 [Eh]\n",
      "  Correction H             25.324 [kcal/mol]      105.956 [kJ/mol]       0.04035659 [Eh]\n",
      "  Total H, Enthalpy at  298.15 [K]                                     -56.10850712 [Eh]\n",
      "\n",
      "  Gibbs free energy, G = H - T * S\n",
      "    Electronic G            0.000 [kcal/mol]        0.000 [kJ/mol]       0.00000000 [Eh]\n",
      "    Translational G        -8.787 [kcal/mol]      -36.766 [kJ/mol]      -0.01400347 [Eh]\n",
      "    Rotational G           -2.507 [kcal/mol]      -10.490 [kJ/mol]      -0.00399556 [Eh]\n",
      "    Vibrational G          22.936 [kcal/mol]       95.964 [kJ/mol]       0.03655091 [Eh]\n",
      "  Correction G             11.641 [kcal/mol]       48.708 [kJ/mol]       0.01855188 [Eh]\n",
      "  Total G, Free enthalpy at  298.15 [K]                                -56.13031184 [Eh]\n",
      "\n"
     ]
    }
   ],
   "source": [
    "freqs = wfn.frequencies().to_array()\n",
    "print(freqs)\n",
    "\n",
    "with open('output.nh3.dat','r') as f:\n",
    "    lines = f.readlines()[-118:]\n",
    "    print(''.join(lines))"
   ]
  },
  {
   "cell_type": "markdown",
   "metadata": {},
   "source": [
    "Los resultados del análisis de vibraciones armónicas se imprimen en la parte inferior del archivo de salida. Notese que en este caso no hay frecuencias imaginarias por lo tanto el punto estacionario encontrado corresponde a un mínimo de energía. \n",
    "\n",
    "A continuación, apliquemos el análisis vibracional a la estructura plana del amoníaco. Tambien vamos a pedirle a psi4 que imprima los modos normales en el disco con:\n",
    "\n",
    "```python\n",
    "psi4.set_options({'NORMAL_MODES_WRITE' : True})\n",
    "```\n",
    "\n",
    "\n"
   ]
  },
  {
   "cell_type": "code",
   "execution_count": 9,
   "metadata": {},
   "outputs": [
    {
     "name": "stdout",
     "output_type": "stream",
     "text": [
      "4\n",
      "0 1 H3N\n",
      "N                     0.000000000000     0.000000000000     0.000000000000\n",
      "H                     0.000000000000     0.000000000000    -1.000000000000\n",
      "H                     0.866025403784     0.000000000000     0.500000000000\n",
      "H                    -0.866025403784     0.000000000000     0.500000000000\n",
      "\n",
      "Optimizer: Optimization complete!\n",
      "Warning: thermodynamics relations excluded imaginary frequencies: ['908.6689i']\n"
     ]
    }
   ],
   "source": [
    "psi4.set_output_file(\"output.nh3_ts.dat\")\n",
    "\n",
    "geom = psi4.geometry(\"\"\"\n",
    "0 1\n",
    "X\n",
    "N 1 1.0\n",
    "H 2 R 1 A\n",
    "H 2 R 1 A 3 D\n",
    "H 2 R 1 A 3 -D\n",
    "\n",
    "R = 1.000\n",
    "A = 90.0\n",
    "D = 120.0\n",
    "\"\"\")\n",
    "\n",
    "psi4.set_options({'NORMAL_MODES_WRITE' : True})\n",
    "print(geom.to_string(dtype='xyz'))\n",
    "psi4.optimize('scf/def2-SVP',molecule=geom)\n",
    "e_ts, wfn_ts = psi4.frequency('scf/def2-SVP',molecule=geom,return_wfn=True)"
   ]
  },
  {
   "cell_type": "code",
   "execution_count": 10,
   "metadata": {},
   "outputs": [
    {
     "name": "stdout",
     "output_type": "stream",
     "text": [
      "[1135.57802355 1782.13682385 1782.13682389 3696.60923638 3824.70822815\n",
      " 3824.70822818]\n",
      "  ==> Harmonic Vibrational Analysis <==\n",
      "\n",
      "  non-mass-weighted Hessian:       Symmetric? True   Hermitian? True   Lin Dep Dim?  0 (0)\n",
      "  projection of translations (True) and rotations (True) removed 6 degrees of freedom (6)\n",
      "  total projector:                 Symmetric? True   Hermitian? True   Lin Dep Dim?  6 (6)\n",
      "  mass-weighted Hessian:           Symmetric? True   Hermitian? True   Lin Dep Dim?  0 (0)\n",
      "  pre-proj  low-frequency mode:    0.0000i [cm^-1]\n",
      "  pre-proj  low-frequency mode:    0.0000i [cm^-1]\n",
      "  pre-proj  low-frequency mode:    0.0024  [cm^-1]\n",
      "  pre-proj  low-frequency mode:    0.0038  [cm^-1]\n",
      "  pre-proj  low-frequency mode:   18.3838  [cm^-1]\n",
      "  pre-proj  low-frequency mode:   18.3838  [cm^-1]\n",
      "  pre-proj  low-frequency mode:   18.3839  [cm^-1]\n",
      "  pre-proj  all modes:['908.6689i' '0.0029i' '0.0024' '0.0038' '18.3838' '18.3838' '18.3839'\n",
      " '1663.6482' '1663.6482' '3804.3257' '4036.9455' '4036.9455']\n",
      "  projected mass-weighted Hessian: Symmetric? True   Hermitian? True   Lin Dep Dim?  6 (6)\n",
      "  post-proj low-frequency mode:  908.6689i [cm^-1] (V)\n",
      "  post-proj low-frequency mode:    0.0001i [cm^-1] (TR)\n",
      "  post-proj low-frequency mode:    0.0000i [cm^-1] (TR)\n",
      "  post-proj low-frequency mode:    0.0000i [cm^-1] (TR)\n",
      "  post-proj low-frequency mode:    0.0000  [cm^-1] (TR)\n",
      "  post-proj low-frequency mode:    0.0000  [cm^-1] (TR)\n",
      "  post-proj low-frequency mode:    0.0000  [cm^-1] (TR)\n",
      "  post-proj  all modes:['908.6689i' '0.0001i' '0.0000i' '0.0000i' '0.0000' '0.0000' '0.0000'\n",
      " '1663.6482' '1663.6482' '3804.3257' '4036.9455' '4036.9455']\n",
      "\n",
      "  Vibration                       1                   8                   9           \n",
      "  Freq [cm^-1]                908.6689i           1663.6482           1663.6482       \n",
      "  Irrep                           B2                                                  \n",
      "  Reduced mass [u]              1.2067              1.0914              1.0914        \n",
      "  Force const [mDyne/A]        -0.5870              1.7798              1.7798        \n",
      "  Turning point v=0 [a0]        0.0000              0.2575              0.2575        \n",
      "  RMS dev v=0 [a0 u^1/2]        0.0000              0.1902              0.1902        \n",
      "  IR activ [km/mol]            516.9127            35.0480             35.0480        \n",
      "  Char temp [K]                 0.0000            2393.6193           2393.6193       \n",
      "  ----------------------------------------------------------------------------------\n",
      "      1   N               -0.00 -0.12 -0.00    0.00 -0.00 -0.08   -0.08  0.00 -0.00   \n",
      "      2   H                0.00  0.57 -0.00   -0.03 -0.00 -0.07    0.81 -0.00 -0.00   \n",
      "      3   H                0.00  0.57 -0.00   -0.39  0.00  0.61    0.14 -0.00 -0.36   \n",
      "      4   H                0.00  0.57  0.00    0.37  0.00  0.58    0.17 -0.00  0.40   \n",
      "\n",
      "  Vibration                       10                  11                  12          \n",
      "  Freq [cm^-1]                3804.3257           4036.9455           4036.9455       \n",
      "  Irrep                           A1                                                  \n",
      "  Reduced mass [u]              1.0078              1.1053              1.1053        \n",
      "  Force const [mDyne/A]         8.5939             10.6132             10.6132        \n",
      "  Turning point v=0 [a0]        0.1772              0.1643              0.1643        \n",
      "  RMS dev v=0 [a0 u^1/2]        0.1258              0.1221              0.1221        \n",
      "  IR activ [km/mol]             0.0000             54.9401             54.9401        \n",
      "  Char temp [K]               5473.5777           5808.2658           5808.2658       \n",
      "  ----------------------------------------------------------------------------------\n",
      "      1   N               -0.00 -0.00 -0.00    0.01  0.00 -0.09   -0.09  0.00 -0.01   \n",
      "      2   H               -0.00  0.00  0.58    0.00 -0.00  0.80   -0.01 -0.00  0.12   \n",
      "      3   H               -0.50  0.00 -0.29    0.26 -0.00  0.14    0.65 -0.00  0.38   \n",
      "      4   H                0.50  0.00 -0.29   -0.44 -0.00  0.25    0.55 -0.00 -0.32   \n",
      "\n",
      "  ==> Thermochemistry Components <==\n",
      "\n",
      "  Entropy, S\n",
      "    Electronic S            0.000 [cal/(mol K)]        0.000 [J/(mol K)]       0.00000000 [mEh/K] (multiplicity = 1)\n",
      "    Translational S        34.441 [cal/(mol K)]      144.100 [J/(mol K)]       0.05488488 [mEh/K] (mol. weight = 17.0265 [u], P = 101325.00 [Pa])\n",
      "    Rotational S            9.912 [cal/(mol K)]       41.472 [J/(mol K)]       0.01579579 [mEh/K] (symmetry no. = 6)\n",
      "    Vibrational S           0.012 [cal/(mol K)]        0.049 [J/(mol K)]       0.00001865 [mEh/K]\n",
      "  Total S                  44.364 [cal/(mol K)]      185.621 [J/(mol K)]       0.07069933 [mEh/K]\n",
      "  Correction S              0.000 [cal/(mol K)]        0.000 [J/(mol K)]       0.00000000 [mEh/K]\n",
      "\n",
      "  Constant volume heat capacity, Cv\n",
      "    Electronic Cv           0.000 [cal/(mol K)]        0.000 [J/(mol K)]       0.00000000 [mEh/K]\n",
      "    Translational Cv        2.981 [cal/(mol K)]       12.472 [J/(mol K)]       0.00475022 [mEh/K]\n",
      "    Rotational Cv           2.981 [cal/(mol K)]       12.472 [J/(mol K)]       0.00475022 [mEh/K]\n",
      "    Vibrational Cv          0.084 [cal/(mol K)]        0.350 [J/(mol K)]       0.00013324 [mEh/K]\n",
      "  Total Cv                  6.045 [cal/(mol K)]       25.293 [J/(mol K)]       0.00963367 [mEh/K]\n",
      "  Correction Cv             0.000 [cal/(mol K)]        0.000 [J/(mol K)]       0.00000000 [mEh/K]\n",
      "\n",
      "  Constant pressure heat capacity, Cp\n",
      "    Electronic Cp           0.000 [cal/(mol K)]        0.000 [J/(mol K)]       0.00000000 [mEh/K]\n",
      "    Translational Cp        4.968 [cal/(mol K)]       20.786 [J/(mol K)]       0.00791703 [mEh/K]\n",
      "    Rotational Cp           2.981 [cal/(mol K)]       12.472 [J/(mol K)]       0.00475022 [mEh/K]\n",
      "    Vibrational Cp          0.084 [cal/(mol K)]        0.350 [J/(mol K)]       0.00013324 [mEh/K]\n",
      "  Total Cp                  8.032 [cal/(mol K)]       33.608 [J/(mol K)]       0.01280048 [mEh/K]\n",
      "  Correction Cp             0.000 [cal/(mol K)]        0.000 [J/(mol K)]       0.00000000 [mEh/K]\n",
      "\n",
      "  ==> Thermochemistry Energy Analysis <==\n",
      "\n",
      "  Raw electronic energy, E0\n",
      "  Total E0, Electronic energy at well bottom at 0 [K]                  -56.13951484 [Eh]\n",
      "\n",
      "  Zero-point energy, ZPE_vib = Sum_i nu_i / 2\n",
      "    Electronic ZPE          0.000 [kcal/mol]        0.000 [kJ/mol]       0.00000000 [Eh]\n",
      "    Translational ZPE       0.000 [kcal/mol]        0.000 [kJ/mol]       0.00000000 [Eh]\n",
      "    Rotational ZPE          0.000 [kcal/mol]        0.000 [kJ/mol]       0.00000000 [Eh]\n",
      "    Vibrational ZPE        21.737 [kcal/mol]       90.949 [kJ/mol]       0.03464071 [Eh]        7602.756 [cm^-1]\n",
      "  Correction ZPE           21.737 [kcal/mol]       90.949 [kJ/mol]       0.03464071 [Eh]        7602.756 [cm^-1]\n",
      "  Total ZPE, Electronic energy at 0 [K]                                -56.10487413 [Eh]\n",
      "\n",
      "  Thermal Energy, E (includes ZPE)\n",
      "    Electronic E            0.000 [kcal/mol]        0.000 [kJ/mol]       0.00000000 [Eh]\n",
      "    Translational E         0.889 [kcal/mol]        3.718 [kJ/mol]       0.00141628 [Eh]\n",
      "    Rotational E            0.889 [kcal/mol]        3.718 [kJ/mol]       0.00141628 [Eh]\n",
      "    Vibrational E          21.740 [kcal/mol]       90.962 [kJ/mol]       0.03464565 [Eh]\n",
      "  Correction E             23.518 [kcal/mol]       98.399 [kJ/mol]       0.03747821 [Eh]\n",
      "  Total E, Electronic energy at  298.15 [K]                            -56.10203663 [Eh]\n",
      "\n",
      "  Enthalpy, H_trans = E_trans + k_B * T\n",
      "    Electronic H            0.000 [kcal/mol]        0.000 [kJ/mol]       0.00000000 [Eh]\n",
      "    Translational H         1.481 [kcal/mol]        6.197 [kJ/mol]       0.00236046 [Eh]\n",
      "    Rotational H            0.889 [kcal/mol]        3.718 [kJ/mol]       0.00141628 [Eh]\n",
      "    Vibrational H          21.740 [kcal/mol]       90.962 [kJ/mol]       0.03464565 [Eh]\n",
      "  Correction H             24.110 [kcal/mol]      100.878 [kJ/mol]       0.03842239 [Eh]\n",
      "  Total H, Enthalpy at  298.15 [K]                                     -56.10109245 [Eh]\n",
      "\n",
      "  Gibbs free energy, G = H - T * S\n",
      "    Electronic G            0.000 [kcal/mol]        0.000 [kJ/mol]       0.00000000 [Eh]\n",
      "    Translational G        -8.787 [kcal/mol]      -36.766 [kJ/mol]      -0.01400347 [Eh]\n",
      "    Rotational G           -2.067 [kcal/mol]       -8.646 [kJ/mol]      -0.00329324 [Eh]\n",
      "    Vibrational G          21.737 [kcal/mol]       90.948 [kJ/mol]       0.03464009 [Eh]\n",
      "  Correction G             10.883 [kcal/mol]       45.535 [kJ/mol]       0.01734339 [Eh]\n",
      "  Total G, Free enthalpy at  298.15 [K]                                -56.12217145 [Eh]\n",
      "\n"
     ]
    }
   ],
   "source": [
    "freqs_ts = wfn.frequencies().to_array()\n",
    "print(freqs_ts)\n",
    "\n",
    "with open('output.nh3_ts.dat','r') as f:\n",
    "    lines = f.readlines()[-118:]\n",
    "    print(''.join(lines))"
   ]
  },
  {
   "attachments": {
    "saddle_point.jpeg": {
     "image/jpeg": "[encoded data removed]"
    }
   },
   "cell_type": "markdown",
   "metadata": {},
   "source": [
    "En este caso, el primer modo normal tiene una frecuencia vibracional que es un número imaginario (908.6689i). \n",
    "Note que la siguiente modo normal cuya frecuencia es distinta de cero, es el modo 8 y es un número real (1663.6482). Esto significa que la estructura es un mínimo en todas las direcciones, excepto la correspondiente al modo imaginario, lo que caracteriza a un estado de transición o punto de ensilladura de una SEP. \n",
    "\n",
    "![saddle_point.jpeg](attachment:saddle_point.jpeg)\n",
    "\n",
    "\n",
    "Ahora podemos echar un vistazo a los modos de vibración. Usaremos el módulo `fortecubeview`\n",
    "que puede instalarse con:\n",
    "\n",
    "```pip install fortecubeview```\n",
    "\n",
    "Mas info en https://github.com/evangelistalab/fortecubeview \n",
    "\n",
    "\n"
   ]
  },
  {
   "cell_type": "code",
   "execution_count": 15,
   "metadata": {},
   "outputs": [
    {
     "data": {
      "application/vnd.jupyter.widget-view+json": {
       "model_id": "6d38c5c9dbfb4c14ba7eed5866979c38",
       "version_major": 2,
       "version_minor": 0
      },
      "text/plain": [
       "VBox(children=(HTML(value=''), Renderer(camera=OrthographicCamera(bottom=-5.0, children=(DirectionalLight(colo…"
      ]
     },
     "metadata": {},
     "output_type": "display_data"
    },
    {
     "data": {
      "application/vnd.jupyter.widget-view+json": {
       "model_id": "5c488cd32bb24dcc991fbb2096d29b93",
       "version_major": 2,
       "version_minor": 0
      },
      "text/plain": [
       "HTML(value='\\n        <style>\\n           .jupyter-widgets-output-area .output_scroll {\\n                heigh…"
      ]
     },
     "metadata": {},
     "output_type": "display_data"
    },
    {
     "data": {
      "application/vnd.jupyter.widget-view+json": {
       "model_id": "2ce8c6c7900e459882621ccdbe366182",
       "version_major": 2,
       "version_minor": 0
      },
      "text/plain": [
       "interactive(children=(Select(description='Select:', options=('1: Imaginary mode (i908.7 cm^-1)', '2: Normal mo…"
      ]
     },
     "metadata": {},
     "output_type": "display_data"
    },
    {
     "data": {
      "text/plain": [
       "<fortecubeview.vib_viewer.VibViewer at 0x2ad836a93f90>"
      ]
     },
     "execution_count": 15,
     "metadata": {},
     "output_type": "execute_result"
    }
   ],
   "source": [
    "import fortecubeview\n",
    "import glob\n",
    "mode_file = glob.glob(\"output.nh3_ts.default.*.molden_normal_modes\")\n",
    "fortecubeview.vib(mode_file[0])"
   ]
  },
  {
   "attachments": {
    "imaginary_mode_nh3.png": {
     "image/png": "[encoded data removed]"
    }
   },
   "cell_type": "markdown",
   "metadata": {},
   "source": [
    "\n",
    "![imaginary_mode_nh3.png](attachment:imaginary_mode_nh3.png)\n",
    "\n",
    "En la figura se muestra con flechas los desplazamientos atómicos asociados al primer modo normal, de frecuencia imaginaria. \n",
    "\n",
    "Si imagina desplazar los átomos de hidrógeno a lo largo de las flechas, lo que se obtiene es la estructura piramidal (no planar) del amoníaco. Claramente, este modo normal nos dice que el amoníaco quiere ser no planar, y esta estructura plana es el estado de transición para la inversión del amoníaco. \n",
    "\n",
    "En general, el modo normal de la frecuencia imaginaria de un estado de transición suele decirnos cuales dos mínimos conecta dicho estado de transición. \n",
    "\n",
    "\n",
    "<div class=\"alert alert-warning\" role=\"alert\">\n",
    "\n",
    "<b> Actividad 3</b>\n",
    "<br>\n",
    "<ul>\n",
    "\n",
    "<li> Dada la siguiente molécula en representación de SMILES: O=CC. Transformela en su correspondiente representación 3D empleando alguna de las herramientas quimioinformáticas vistas en el TP N°3. Visualizela con Avogadro. ¿De que molécula se trata? </li>\n",
    "<li> Construya la matriz Z de la molécula problema, especificando que el angulo diedro $O-C-C-H$ sea de $\\theta=180°$ </li>\n",
    "<li> Optimice la geometría de la molécula problema. Verifique que la estructura optimizada corresponde a un estado de transición. </li> \n",
    "<li> Visualize el modo normal asociado a la frecuencia imaginaria para guiarse en la busqueda de los mínimos. Con esta información, construya una matriz Z que esta vez converja a un mínimo de energía luego de la optimización geométrica. </li>\n",
    "\n",
    "</ul>\n",
    "\n",
    "\n",
    "</div>"
   ]
  },
  {
   "cell_type": "markdown",
   "metadata": {},
   "source": [
    "### References\n",
    "\n",
    "* Jan H Jensen (2010) Molecular Modelling Basics, Boca Ratón, CRC Press. \n",
    "\n",
    "* https://psicode.org/psi4manual/master/index.html\n",
    "\n",
    "* https://psicode.org/posts/psi4education/\n",
    "\n",
    "* http://education.molssi.org/qm-tools/aio.html\n",
    "\n",
    "* https://github.com/fevangelista/Course-QuantumChemistryLab\n",
    "\n",
    "* https://nznano.blogspot.com/2018/03/simple-quantum-chemistry-hartree-fock.html\n",
    "\n",
    "* https://adambaskerville.github.io/posts/HartreeFockGuide/"
   ]
  },
  {
   "cell_type": "code",
   "execution_count": null,
   "metadata": {},
   "outputs": [],
   "source": []
  }
 ],
 "metadata": {
  "kernelspec": {
   "display_name": "Python 3",
   "language": "python",
   "name": "python3"
  },
  "language_info": {
   "codemirror_mode": {
    "name": "ipython",
    "version": 3
   },
   "file_extension": ".py",
   "mimetype": "text/x-python",
   "name": "python",
   "nbconvert_exporter": "python",
   "pygments_lexer": "ipython3",
   "version": "3.7.5"
  }
 },
 "nbformat": 4,
 "nbformat_minor": 2
}
